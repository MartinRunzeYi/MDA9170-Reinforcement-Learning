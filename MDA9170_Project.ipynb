{
  "nbformat": 4,
  "nbformat_minor": 0,
  "metadata": {
    "colab": {
      "provenance": []
    },
    "kernelspec": {
      "name": "python3",
      "display_name": "Python 3"
    },
    "language_info": {
      "name": "python"
    }
  },
  "cells": [
    {
      "cell_type": "code",
      "source": [
        "import gym\n",
        "from gym import spaces\n",
        "import pandas as pd\n",
        "import numpy as np\n",
        "import math\n",
        "import random\n",
        "import matplotlib\n",
        "import matplotlib.pyplot as plt\n",
        "from collections import namedtuple, deque\n",
        "from itertools import count\n",
        "\n",
        "from keras.models import Sequential\n",
        "from keras.layers import LSTM, Dense, Activation, Embedding, Dropout\n",
        "from keras.optimizers import Adam,RMSprop\n",
        "from keras import backend as K\n",
        "\n",
        "import torch\n",
        "import torch.nn as nn\n",
        "import torch.optim as optim\n",
        "import torch.nn.functional as F\n",
        "\n",
        "is_ipython = 'inline' in matplotlib.get_backend()\n",
        "if is_ipython:\n",
        "    from IPython import display"
      ],
      "metadata": {
        "id": "wsdMEv_43an1"
      },
      "execution_count": null,
      "outputs": []
    },
    {
      "cell_type": "code",
      "execution_count": null,
      "metadata": {
        "colab": {
          "base_uri": "https://localhost:8080/"
        },
        "id": "ZdlZkOn-2--G",
        "outputId": "b240d808-07c9-435a-a421-3bbeb452a3f9"
      },
      "outputs": [
        {
          "output_type": "stream",
          "name": "stdout",
          "text": [
            "Drive already mounted at /content/drive; to attempt to forcibly remount, call drive.mount(\"/content/drive\", force_remount=True).\n"
          ]
        }
      ],
      "source": [
        "# connect to drive to pull data\n",
        "from google.colab import drive\n",
        "drive.mount('/content/drive')"
      ]
    },
    {
      "cell_type": "code",
      "source": [
        "path = './drive/My Drive/MDA9170 Project/'#please go to the kaggle link and put the dataset in google drive before running\n",
        "\n",
        "df = pd.read_csv(path + 'stocks.csv')"
      ],
      "metadata": {
        "id": "nt9wWJDE3MzS"
      },
      "execution_count": null,
      "outputs": []
    },
    {
      "cell_type": "markdown",
      "source": [
        "# Data Preprocessing\n"
      ],
      "metadata": {
        "id": "sLX-FaCRanxT"
      }
    },
    {
      "cell_type": "code",
      "source": [
        "df.head()"
      ],
      "metadata": {
        "colab": {
          "base_uri": "https://localhost:8080/",
          "height": 261
        },
        "id": "mOhcQ2-O5BbZ",
        "outputId": "05e437d9-3188-40fd-be76-00a882e8d5bb"
      },
      "execution_count": null,
      "outputs": [
        {
          "output_type": "stream",
          "name": "stderr",
          "text": [
            "/usr/local/lib/python3.9/dist-packages/ipykernel/ipkernel.py:283: DeprecationWarning: `should_run_async` will not call `transform_cell` automatically in the future. Please pass the result to `transformed_cell` argument and any exception that happen during thetransform in `preprocessing_exc_tuple` in IPython 7.17 and above.\n",
            "  and should_run_async(code)\n"
          ]
        },
        {
          "output_type": "execute_result",
          "data": {
            "text/plain": [
              "         date symbol        open       close         low        high  \\\n",
              "0  2016-01-05   WLTW  123.430000  125.839996  122.309998  126.250000   \n",
              "1  2016-01-06   WLTW  125.239998  119.980003  119.940002  125.540001   \n",
              "2  2016-01-07   WLTW  116.379997  114.949997  114.930000  119.739998   \n",
              "3  2016-01-08   WLTW  115.480003  116.620003  113.500000  117.440002   \n",
              "4  2016-01-11   WLTW  117.010002  114.970001  114.089996  117.330002   \n",
              "\n",
              "      volume  \n",
              "0  2163600.0  \n",
              "1  2386400.0  \n",
              "2  2489500.0  \n",
              "3  2006300.0  \n",
              "4  1408600.0  "
            ],
            "text/html": [
              "\n",
              "  <div id=\"df-c0dc940b-8485-4451-8867-e1717fb90455\">\n",
              "    <div class=\"colab-df-container\">\n",
              "      <div>\n",
              "<style scoped>\n",
              "    .dataframe tbody tr th:only-of-type {\n",
              "        vertical-align: middle;\n",
              "    }\n",
              "\n",
              "    .dataframe tbody tr th {\n",
              "        vertical-align: top;\n",
              "    }\n",
              "\n",
              "    .dataframe thead th {\n",
              "        text-align: right;\n",
              "    }\n",
              "</style>\n",
              "<table border=\"1\" class=\"dataframe\">\n",
              "  <thead>\n",
              "    <tr style=\"text-align: right;\">\n",
              "      <th></th>\n",
              "      <th>date</th>\n",
              "      <th>symbol</th>\n",
              "      <th>open</th>\n",
              "      <th>close</th>\n",
              "      <th>low</th>\n",
              "      <th>high</th>\n",
              "      <th>volume</th>\n",
              "    </tr>\n",
              "  </thead>\n",
              "  <tbody>\n",
              "    <tr>\n",
              "      <th>0</th>\n",
              "      <td>2016-01-05</td>\n",
              "      <td>WLTW</td>\n",
              "      <td>123.430000</td>\n",
              "      <td>125.839996</td>\n",
              "      <td>122.309998</td>\n",
              "      <td>126.250000</td>\n",
              "      <td>2163600.0</td>\n",
              "    </tr>\n",
              "    <tr>\n",
              "      <th>1</th>\n",
              "      <td>2016-01-06</td>\n",
              "      <td>WLTW</td>\n",
              "      <td>125.239998</td>\n",
              "      <td>119.980003</td>\n",
              "      <td>119.940002</td>\n",
              "      <td>125.540001</td>\n",
              "      <td>2386400.0</td>\n",
              "    </tr>\n",
              "    <tr>\n",
              "      <th>2</th>\n",
              "      <td>2016-01-07</td>\n",
              "      <td>WLTW</td>\n",
              "      <td>116.379997</td>\n",
              "      <td>114.949997</td>\n",
              "      <td>114.930000</td>\n",
              "      <td>119.739998</td>\n",
              "      <td>2489500.0</td>\n",
              "    </tr>\n",
              "    <tr>\n",
              "      <th>3</th>\n",
              "      <td>2016-01-08</td>\n",
              "      <td>WLTW</td>\n",
              "      <td>115.480003</td>\n",
              "      <td>116.620003</td>\n",
              "      <td>113.500000</td>\n",
              "      <td>117.440002</td>\n",
              "      <td>2006300.0</td>\n",
              "    </tr>\n",
              "    <tr>\n",
              "      <th>4</th>\n",
              "      <td>2016-01-11</td>\n",
              "      <td>WLTW</td>\n",
              "      <td>117.010002</td>\n",
              "      <td>114.970001</td>\n",
              "      <td>114.089996</td>\n",
              "      <td>117.330002</td>\n",
              "      <td>1408600.0</td>\n",
              "    </tr>\n",
              "  </tbody>\n",
              "</table>\n",
              "</div>\n",
              "      <button class=\"colab-df-convert\" onclick=\"convertToInteractive('df-c0dc940b-8485-4451-8867-e1717fb90455')\"\n",
              "              title=\"Convert this dataframe to an interactive table.\"\n",
              "              style=\"display:none;\">\n",
              "        \n",
              "  <svg xmlns=\"http://www.w3.org/2000/svg\" height=\"24px\"viewBox=\"0 0 24 24\"\n",
              "       width=\"24px\">\n",
              "    <path d=\"M0 0h24v24H0V0z\" fill=\"none\"/>\n",
              "    <path d=\"M18.56 5.44l.94 2.06.94-2.06 2.06-.94-2.06-.94-.94-2.06-.94 2.06-2.06.94zm-11 1L8.5 8.5l.94-2.06 2.06-.94-2.06-.94L8.5 2.5l-.94 2.06-2.06.94zm10 10l.94 2.06.94-2.06 2.06-.94-2.06-.94-.94-2.06-.94 2.06-2.06.94z\"/><path d=\"M17.41 7.96l-1.37-1.37c-.4-.4-.92-.59-1.43-.59-.52 0-1.04.2-1.43.59L10.3 9.45l-7.72 7.72c-.78.78-.78 2.05 0 2.83L4 21.41c.39.39.9.59 1.41.59.51 0 1.02-.2 1.41-.59l7.78-7.78 2.81-2.81c.8-.78.8-2.07 0-2.86zM5.41 20L4 18.59l7.72-7.72 1.47 1.35L5.41 20z\"/>\n",
              "  </svg>\n",
              "      </button>\n",
              "      \n",
              "  <style>\n",
              "    .colab-df-container {\n",
              "      display:flex;\n",
              "      flex-wrap:wrap;\n",
              "      gap: 12px;\n",
              "    }\n",
              "\n",
              "    .colab-df-convert {\n",
              "      background-color: #E8F0FE;\n",
              "      border: none;\n",
              "      border-radius: 50%;\n",
              "      cursor: pointer;\n",
              "      display: none;\n",
              "      fill: #1967D2;\n",
              "      height: 32px;\n",
              "      padding: 0 0 0 0;\n",
              "      width: 32px;\n",
              "    }\n",
              "\n",
              "    .colab-df-convert:hover {\n",
              "      background-color: #E2EBFA;\n",
              "      box-shadow: 0px 1px 2px rgba(60, 64, 67, 0.3), 0px 1px 3px 1px rgba(60, 64, 67, 0.15);\n",
              "      fill: #174EA6;\n",
              "    }\n",
              "\n",
              "    [theme=dark] .colab-df-convert {\n",
              "      background-color: #3B4455;\n",
              "      fill: #D2E3FC;\n",
              "    }\n",
              "\n",
              "    [theme=dark] .colab-df-convert:hover {\n",
              "      background-color: #434B5C;\n",
              "      box-shadow: 0px 1px 3px 1px rgba(0, 0, 0, 0.15);\n",
              "      filter: drop-shadow(0px 1px 2px rgba(0, 0, 0, 0.3));\n",
              "      fill: #FFFFFF;\n",
              "    }\n",
              "  </style>\n",
              "\n",
              "      <script>\n",
              "        const buttonEl =\n",
              "          document.querySelector('#df-c0dc940b-8485-4451-8867-e1717fb90455 button.colab-df-convert');\n",
              "        buttonEl.style.display =\n",
              "          google.colab.kernel.accessAllowed ? 'block' : 'none';\n",
              "\n",
              "        async function convertToInteractive(key) {\n",
              "          const element = document.querySelector('#df-c0dc940b-8485-4451-8867-e1717fb90455');\n",
              "          const dataTable =\n",
              "            await google.colab.kernel.invokeFunction('convertToInteractive',\n",
              "                                                     [key], {});\n",
              "          if (!dataTable) return;\n",
              "\n",
              "          const docLinkHtml = 'Like what you see? Visit the ' +\n",
              "            '<a target=\"_blank\" href=https://colab.research.google.com/notebooks/data_table.ipynb>data table notebook</a>'\n",
              "            + ' to learn more about interactive tables.';\n",
              "          element.innerHTML = '';\n",
              "          dataTable['output_type'] = 'display_data';\n",
              "          await google.colab.output.renderOutput(dataTable, element);\n",
              "          const docLink = document.createElement('div');\n",
              "          docLink.innerHTML = docLinkHtml;\n",
              "          element.appendChild(docLink);\n",
              "        }\n",
              "      </script>\n",
              "    </div>\n",
              "  </div>\n",
              "  "
            ]
          },
          "metadata": {},
          "execution_count": 588
        }
      ]
    },
    {
      "cell_type": "code",
      "source": [
        "df[\"reward\"] = df[\"open\"] - df[\"close\"]\n",
        "df = df.drop(columns = [\"low\",\"high\",\"volume\",\"open\",\"close\",\"date\"])\n",
        "df.head()"
      ],
      "metadata": {
        "colab": {
          "base_uri": "https://localhost:8080/",
          "height": 261
        },
        "id": "SJ0T92fY5D0D",
        "outputId": "7cb522c9-d572-4504-912e-42b412c3b89b"
      },
      "execution_count": null,
      "outputs": [
        {
          "output_type": "stream",
          "name": "stderr",
          "text": [
            "/usr/local/lib/python3.9/dist-packages/ipykernel/ipkernel.py:283: DeprecationWarning: `should_run_async` will not call `transform_cell` automatically in the future. Please pass the result to `transformed_cell` argument and any exception that happen during thetransform in `preprocessing_exc_tuple` in IPython 7.17 and above.\n",
            "  and should_run_async(code)\n"
          ]
        },
        {
          "output_type": "execute_result",
          "data": {
            "text/plain": [
              "  symbol    reward\n",
              "0   WLTW -2.409996\n",
              "1   WLTW  5.259995\n",
              "2   WLTW  1.430000\n",
              "3   WLTW -1.140000\n",
              "4   WLTW  2.040001"
            ],
            "text/html": [
              "\n",
              "  <div id=\"df-cc9e17ba-05a1-4a98-b484-3e92acb28489\">\n",
              "    <div class=\"colab-df-container\">\n",
              "      <div>\n",
              "<style scoped>\n",
              "    .dataframe tbody tr th:only-of-type {\n",
              "        vertical-align: middle;\n",
              "    }\n",
              "\n",
              "    .dataframe tbody tr th {\n",
              "        vertical-align: top;\n",
              "    }\n",
              "\n",
              "    .dataframe thead th {\n",
              "        text-align: right;\n",
              "    }\n",
              "</style>\n",
              "<table border=\"1\" class=\"dataframe\">\n",
              "  <thead>\n",
              "    <tr style=\"text-align: right;\">\n",
              "      <th></th>\n",
              "      <th>symbol</th>\n",
              "      <th>reward</th>\n",
              "    </tr>\n",
              "  </thead>\n",
              "  <tbody>\n",
              "    <tr>\n",
              "      <th>0</th>\n",
              "      <td>WLTW</td>\n",
              "      <td>-2.409996</td>\n",
              "    </tr>\n",
              "    <tr>\n",
              "      <th>1</th>\n",
              "      <td>WLTW</td>\n",
              "      <td>5.259995</td>\n",
              "    </tr>\n",
              "    <tr>\n",
              "      <th>2</th>\n",
              "      <td>WLTW</td>\n",
              "      <td>1.430000</td>\n",
              "    </tr>\n",
              "    <tr>\n",
              "      <th>3</th>\n",
              "      <td>WLTW</td>\n",
              "      <td>-1.140000</td>\n",
              "    </tr>\n",
              "    <tr>\n",
              "      <th>4</th>\n",
              "      <td>WLTW</td>\n",
              "      <td>2.040001</td>\n",
              "    </tr>\n",
              "  </tbody>\n",
              "</table>\n",
              "</div>\n",
              "      <button class=\"colab-df-convert\" onclick=\"convertToInteractive('df-cc9e17ba-05a1-4a98-b484-3e92acb28489')\"\n",
              "              title=\"Convert this dataframe to an interactive table.\"\n",
              "              style=\"display:none;\">\n",
              "        \n",
              "  <svg xmlns=\"http://www.w3.org/2000/svg\" height=\"24px\"viewBox=\"0 0 24 24\"\n",
              "       width=\"24px\">\n",
              "    <path d=\"M0 0h24v24H0V0z\" fill=\"none\"/>\n",
              "    <path d=\"M18.56 5.44l.94 2.06.94-2.06 2.06-.94-2.06-.94-.94-2.06-.94 2.06-2.06.94zm-11 1L8.5 8.5l.94-2.06 2.06-.94-2.06-.94L8.5 2.5l-.94 2.06-2.06.94zm10 10l.94 2.06.94-2.06 2.06-.94-2.06-.94-.94-2.06-.94 2.06-2.06.94z\"/><path d=\"M17.41 7.96l-1.37-1.37c-.4-.4-.92-.59-1.43-.59-.52 0-1.04.2-1.43.59L10.3 9.45l-7.72 7.72c-.78.78-.78 2.05 0 2.83L4 21.41c.39.39.9.59 1.41.59.51 0 1.02-.2 1.41-.59l7.78-7.78 2.81-2.81c.8-.78.8-2.07 0-2.86zM5.41 20L4 18.59l7.72-7.72 1.47 1.35L5.41 20z\"/>\n",
              "  </svg>\n",
              "      </button>\n",
              "      \n",
              "  <style>\n",
              "    .colab-df-container {\n",
              "      display:flex;\n",
              "      flex-wrap:wrap;\n",
              "      gap: 12px;\n",
              "    }\n",
              "\n",
              "    .colab-df-convert {\n",
              "      background-color: #E8F0FE;\n",
              "      border: none;\n",
              "      border-radius: 50%;\n",
              "      cursor: pointer;\n",
              "      display: none;\n",
              "      fill: #1967D2;\n",
              "      height: 32px;\n",
              "      padding: 0 0 0 0;\n",
              "      width: 32px;\n",
              "    }\n",
              "\n",
              "    .colab-df-convert:hover {\n",
              "      background-color: #E2EBFA;\n",
              "      box-shadow: 0px 1px 2px rgba(60, 64, 67, 0.3), 0px 1px 3px 1px rgba(60, 64, 67, 0.15);\n",
              "      fill: #174EA6;\n",
              "    }\n",
              "\n",
              "    [theme=dark] .colab-df-convert {\n",
              "      background-color: #3B4455;\n",
              "      fill: #D2E3FC;\n",
              "    }\n",
              "\n",
              "    [theme=dark] .colab-df-convert:hover {\n",
              "      background-color: #434B5C;\n",
              "      box-shadow: 0px 1px 3px 1px rgba(0, 0, 0, 0.15);\n",
              "      filter: drop-shadow(0px 1px 2px rgba(0, 0, 0, 0.3));\n",
              "      fill: #FFFFFF;\n",
              "    }\n",
              "  </style>\n",
              "\n",
              "      <script>\n",
              "        const buttonEl =\n",
              "          document.querySelector('#df-cc9e17ba-05a1-4a98-b484-3e92acb28489 button.colab-df-convert');\n",
              "        buttonEl.style.display =\n",
              "          google.colab.kernel.accessAllowed ? 'block' : 'none';\n",
              "\n",
              "        async function convertToInteractive(key) {\n",
              "          const element = document.querySelector('#df-cc9e17ba-05a1-4a98-b484-3e92acb28489');\n",
              "          const dataTable =\n",
              "            await google.colab.kernel.invokeFunction('convertToInteractive',\n",
              "                                                     [key], {});\n",
              "          if (!dataTable) return;\n",
              "\n",
              "          const docLinkHtml = 'Like what you see? Visit the ' +\n",
              "            '<a target=\"_blank\" href=https://colab.research.google.com/notebooks/data_table.ipynb>data table notebook</a>'\n",
              "            + ' to learn more about interactive tables.';\n",
              "          element.innerHTML = '';\n",
              "          dataTable['output_type'] = 'display_data';\n",
              "          await google.colab.output.renderOutput(dataTable, element);\n",
              "          const docLink = document.createElement('div');\n",
              "          docLink.innerHTML = docLinkHtml;\n",
              "          element.appendChild(docLink);\n",
              "        }\n",
              "      </script>\n",
              "    </div>\n",
              "  </div>\n",
              "  "
            ]
          },
          "metadata": {},
          "execution_count": 589
        }
      ]
    },
    {
      "cell_type": "code",
      "source": [
        "df_new = df[df.symbol == \"FB\"].reset_index()\n",
        "df_new = df_new.rename(columns={'reward': 'FB'}).drop(columns=[\"index\",\"symbol\"])\n",
        "\n",
        "dfs = df[df.symbol == \"AMZN\"].reset_index()\n",
        "df_new[\"AMZN\"] = dfs[\"reward\"]\n",
        "\n",
        "dfs = df[df.symbol == \"AAPL\"].reset_index()\n",
        "df_new[\"AAPL\"] = dfs[\"reward\"]\n",
        "\n",
        "dfs = df[df.symbol == \"NFLX\"].reset_index()\n",
        "df_new[\"NFLX\"] = dfs[\"reward\"]\n",
        "\n",
        "dfs = df[df.symbol == \"GOOGL\"].reset_index()\n",
        "df_new[\"GOOGL\"] = dfs[\"reward\"]\n",
        "\n",
        "df_new = df_new.dropna()\n",
        "\n",
        "final_test = df_new.tail(60)\n",
        "final_test = final_test.reset_index().drop(columns=[\"index\"])\n",
        "\n",
        "final_30 = final_test[30:60].reset_index().drop(columns=[\"index\"])\n",
        "\n",
        "df_new = df_new.drop([i for i in range(948,1008)])\n",
        "\n",
        "df_copy = df_new.copy().drop([i for i in range(930,948)])\n",
        "\n",
        "df_new.shape\n",
        "\n"
      ],
      "metadata": {
        "colab": {
          "base_uri": "https://localhost:8080/"
        },
        "id": "WlbcVJcNEXf0",
        "outputId": "8446df18-c9b1-47c8-8f49-208138498282"
      },
      "execution_count": null,
      "outputs": [
        {
          "output_type": "stream",
          "name": "stderr",
          "text": [
            "/usr/local/lib/python3.9/dist-packages/ipykernel/ipkernel.py:283: DeprecationWarning: `should_run_async` will not call `transform_cell` automatically in the future. Please pass the result to `transformed_cell` argument and any exception that happen during thetransform in `preprocessing_exc_tuple` in IPython 7.17 and above.\n",
            "  and should_run_async(code)\n"
          ]
        },
        {
          "output_type": "execute_result",
          "data": {
            "text/plain": [
              "(948, 5)"
            ]
          },
          "metadata": {},
          "execution_count": 590
        }
      ]
    },
    {
      "cell_type": "code",
      "source": [
        "df_new.head()"
      ],
      "metadata": {
        "colab": {
          "base_uri": "https://localhost:8080/",
          "height": 261
        },
        "id": "y9e4VDp-EwvH",
        "outputId": "6b953461-ba49-4155-e3ef-d4e5089727d4"
      },
      "execution_count": null,
      "outputs": [
        {
          "output_type": "stream",
          "name": "stderr",
          "text": [
            "/usr/local/lib/python3.9/dist-packages/ipykernel/ipkernel.py:283: DeprecationWarning: `should_run_async` will not call `transform_cell` automatically in the future. Please pass the result to `transformed_cell` argument and any exception that happen during thetransform in `preprocessing_exc_tuple` in IPython 7.17 and above.\n",
            "  and should_run_async(code)\n"
          ]
        },
        {
          "output_type": "execute_result",
          "data": {
            "text/plain": [
              "         FB      AMZN      AAPL      NFLX     GOOGL\n",
              "0 -0.559999  2.350006 -0.082857  0.291429  0.100098\n",
              "1  0.109999 -1.260009  0.031429  0.294286  1.596589\n",
              "2 -0.750000  2.350006  0.487143 -0.255714  8.808808\n",
              "3 -0.729999  2.009995  0.167143  0.245714  7.657654\n",
              "4  0.450001 -2.960006 -0.240002 -0.115715 -5.015015"
            ],
            "text/html": [
              "\n",
              "  <div id=\"df-351e54ce-4009-4fb5-a8b0-297bd44e5690\">\n",
              "    <div class=\"colab-df-container\">\n",
              "      <div>\n",
              "<style scoped>\n",
              "    .dataframe tbody tr th:only-of-type {\n",
              "        vertical-align: middle;\n",
              "    }\n",
              "\n",
              "    .dataframe tbody tr th {\n",
              "        vertical-align: top;\n",
              "    }\n",
              "\n",
              "    .dataframe thead th {\n",
              "        text-align: right;\n",
              "    }\n",
              "</style>\n",
              "<table border=\"1\" class=\"dataframe\">\n",
              "  <thead>\n",
              "    <tr style=\"text-align: right;\">\n",
              "      <th></th>\n",
              "      <th>FB</th>\n",
              "      <th>AMZN</th>\n",
              "      <th>AAPL</th>\n",
              "      <th>NFLX</th>\n",
              "      <th>GOOGL</th>\n",
              "    </tr>\n",
              "  </thead>\n",
              "  <tbody>\n",
              "    <tr>\n",
              "      <th>0</th>\n",
              "      <td>-0.559999</td>\n",
              "      <td>2.350006</td>\n",
              "      <td>-0.082857</td>\n",
              "      <td>0.291429</td>\n",
              "      <td>0.100098</td>\n",
              "    </tr>\n",
              "    <tr>\n",
              "      <th>1</th>\n",
              "      <td>0.109999</td>\n",
              "      <td>-1.260009</td>\n",
              "      <td>0.031429</td>\n",
              "      <td>0.294286</td>\n",
              "      <td>1.596589</td>\n",
              "    </tr>\n",
              "    <tr>\n",
              "      <th>2</th>\n",
              "      <td>-0.750000</td>\n",
              "      <td>2.350006</td>\n",
              "      <td>0.487143</td>\n",
              "      <td>-0.255714</td>\n",
              "      <td>8.808808</td>\n",
              "    </tr>\n",
              "    <tr>\n",
              "      <th>3</th>\n",
              "      <td>-0.729999</td>\n",
              "      <td>2.009995</td>\n",
              "      <td>0.167143</td>\n",
              "      <td>0.245714</td>\n",
              "      <td>7.657654</td>\n",
              "    </tr>\n",
              "    <tr>\n",
              "      <th>4</th>\n",
              "      <td>0.450001</td>\n",
              "      <td>-2.960006</td>\n",
              "      <td>-0.240002</td>\n",
              "      <td>-0.115715</td>\n",
              "      <td>-5.015015</td>\n",
              "    </tr>\n",
              "  </tbody>\n",
              "</table>\n",
              "</div>\n",
              "      <button class=\"colab-df-convert\" onclick=\"convertToInteractive('df-351e54ce-4009-4fb5-a8b0-297bd44e5690')\"\n",
              "              title=\"Convert this dataframe to an interactive table.\"\n",
              "              style=\"display:none;\">\n",
              "        \n",
              "  <svg xmlns=\"http://www.w3.org/2000/svg\" height=\"24px\"viewBox=\"0 0 24 24\"\n",
              "       width=\"24px\">\n",
              "    <path d=\"M0 0h24v24H0V0z\" fill=\"none\"/>\n",
              "    <path d=\"M18.56 5.44l.94 2.06.94-2.06 2.06-.94-2.06-.94-.94-2.06-.94 2.06-2.06.94zm-11 1L8.5 8.5l.94-2.06 2.06-.94-2.06-.94L8.5 2.5l-.94 2.06-2.06.94zm10 10l.94 2.06.94-2.06 2.06-.94-2.06-.94-.94-2.06-.94 2.06-2.06.94z\"/><path d=\"M17.41 7.96l-1.37-1.37c-.4-.4-.92-.59-1.43-.59-.52 0-1.04.2-1.43.59L10.3 9.45l-7.72 7.72c-.78.78-.78 2.05 0 2.83L4 21.41c.39.39.9.59 1.41.59.51 0 1.02-.2 1.41-.59l7.78-7.78 2.81-2.81c.8-.78.8-2.07 0-2.86zM5.41 20L4 18.59l7.72-7.72 1.47 1.35L5.41 20z\"/>\n",
              "  </svg>\n",
              "      </button>\n",
              "      \n",
              "  <style>\n",
              "    .colab-df-container {\n",
              "      display:flex;\n",
              "      flex-wrap:wrap;\n",
              "      gap: 12px;\n",
              "    }\n",
              "\n",
              "    .colab-df-convert {\n",
              "      background-color: #E8F0FE;\n",
              "      border: none;\n",
              "      border-radius: 50%;\n",
              "      cursor: pointer;\n",
              "      display: none;\n",
              "      fill: #1967D2;\n",
              "      height: 32px;\n",
              "      padding: 0 0 0 0;\n",
              "      width: 32px;\n",
              "    }\n",
              "\n",
              "    .colab-df-convert:hover {\n",
              "      background-color: #E2EBFA;\n",
              "      box-shadow: 0px 1px 2px rgba(60, 64, 67, 0.3), 0px 1px 3px 1px rgba(60, 64, 67, 0.15);\n",
              "      fill: #174EA6;\n",
              "    }\n",
              "\n",
              "    [theme=dark] .colab-df-convert {\n",
              "      background-color: #3B4455;\n",
              "      fill: #D2E3FC;\n",
              "    }\n",
              "\n",
              "    [theme=dark] .colab-df-convert:hover {\n",
              "      background-color: #434B5C;\n",
              "      box-shadow: 0px 1px 3px 1px rgba(0, 0, 0, 0.15);\n",
              "      filter: drop-shadow(0px 1px 2px rgba(0, 0, 0, 0.3));\n",
              "      fill: #FFFFFF;\n",
              "    }\n",
              "  </style>\n",
              "\n",
              "      <script>\n",
              "        const buttonEl =\n",
              "          document.querySelector('#df-351e54ce-4009-4fb5-a8b0-297bd44e5690 button.colab-df-convert');\n",
              "        buttonEl.style.display =\n",
              "          google.colab.kernel.accessAllowed ? 'block' : 'none';\n",
              "\n",
              "        async function convertToInteractive(key) {\n",
              "          const element = document.querySelector('#df-351e54ce-4009-4fb5-a8b0-297bd44e5690');\n",
              "          const dataTable =\n",
              "            await google.colab.kernel.invokeFunction('convertToInteractive',\n",
              "                                                     [key], {});\n",
              "          if (!dataTable) return;\n",
              "\n",
              "          const docLinkHtml = 'Like what you see? Visit the ' +\n",
              "            '<a target=\"_blank\" href=https://colab.research.google.com/notebooks/data_table.ipynb>data table notebook</a>'\n",
              "            + ' to learn more about interactive tables.';\n",
              "          element.innerHTML = '';\n",
              "          dataTable['output_type'] = 'display_data';\n",
              "          await google.colab.output.renderOutput(dataTable, element);\n",
              "          const docLink = document.createElement('div');\n",
              "          docLink.innerHTML = docLinkHtml;\n",
              "          element.appendChild(docLink);\n",
              "        }\n",
              "      </script>\n",
              "    </div>\n",
              "  </div>\n",
              "  "
            ]
          },
          "metadata": {},
          "execution_count": 591
        }
      ]
    },
    {
      "cell_type": "code",
      "source": [
        "def convert(df_new):\n",
        "\n",
        "  names = [\"FB\",\"AMZN\",\"AAPL\",\"NFLX\",\"GOOGL\"]\n",
        "  for i in range(5):\n",
        "    for j in range(i+1,5):\n",
        "      name = names[i]+\"_\"+names[j]\n",
        "      df_new[name] = df_new[names[i]] + df_new[names[j]]\n",
        "      for x in range(j+1,5):\n",
        "        name = names[i]+\"_\"+names[j]+\"_\"+names[x]\n",
        "        df_new[name] = df_new[names[i]] + df_new[names[j]] + df_new[names[x]]\n",
        "\n",
        "    names_temp = names.copy()\n",
        "    del names_temp[i]\n",
        "    name = names_temp[0]+\"_\"+names_temp[1]+\"_\"+names_temp[2]+\"_\"+names_temp[3]\n",
        "    df_new[name] = df_new[names_temp[0]] + df_new[names_temp[1]] + df_new[names_temp[2]] + df_new[names_temp[3]]\n",
        "\n",
        "  df_new[\"FB\"+\"AMZN\"+\"AAPL\"+\"NFLX\"+\"GOOGL\"] = df_new[\"FB\"] + df_new[\"AMZN\"] + df_new[\"AAPL\"] + df_new[\"NFLX\"] + df_new[\"GOOGL\"]\n",
        "\n",
        "  df_new.head()\n",
        "\n",
        "  return df_new\n",
        "\n",
        "df_new = convert(df_new)"
      ],
      "metadata": {
        "colab": {
          "base_uri": "https://localhost:8080/"
        },
        "id": "jtEELkhvCUKl",
        "outputId": "aecd9166-3016-4719-d43a-890d3526d988"
      },
      "execution_count": null,
      "outputs": [
        {
          "output_type": "stream",
          "name": "stderr",
          "text": [
            "/usr/local/lib/python3.9/dist-packages/ipykernel/ipkernel.py:283: DeprecationWarning: `should_run_async` will not call `transform_cell` automatically in the future. Please pass the result to `transformed_cell` argument and any exception that happen during thetransform in `preprocessing_exc_tuple` in IPython 7.17 and above.\n",
            "  and should_run_async(code)\n"
          ]
        }
      ]
    },
    {
      "cell_type": "code",
      "source": [
        "df_new.describe()"
      ],
      "metadata": {
        "colab": {
          "base_uri": "https://localhost:8080/",
          "height": 384
        },
        "id": "aGkcHcj9bgk4",
        "outputId": "30289162-9c4f-4545-a047-85673cb2aaed"
      },
      "execution_count": null,
      "outputs": [
        {
          "output_type": "stream",
          "name": "stderr",
          "text": [
            "/usr/local/lib/python3.9/dist-packages/ipykernel/ipkernel.py:283: DeprecationWarning: `should_run_async` will not call `transform_cell` automatically in the future. Please pass the result to `transformed_cell` argument and any exception that happen during thetransform in `preprocessing_exc_tuple` in IPython 7.17 and above.\n",
            "  and should_run_async(code)\n"
          ]
        },
        {
          "output_type": "execute_result",
          "data": {
            "text/plain": [
              "               FB        AMZN        AAPL        NFLX       GOOGL     FB_AMZN  \\\n",
              "count  948.000000  948.000000  948.000000  948.000000  948.000000  948.000000   \n",
              "mean    -0.009441   -0.144504    0.051483   -0.026706    0.096177   -0.153945   \n",
              "std      1.181737    3.409818    0.880902    0.611546    3.607517    3.601055   \n",
              "min     -5.059997  -14.630005   -4.394287   -3.412857  -15.370361  -14.860009   \n",
              "25%     -0.700000   -2.167503   -0.407500   -0.323214   -2.052040   -2.442493   \n",
              "50%     -0.029999   -0.070000    0.009287    0.018570    0.100098   -0.139995   \n",
              "75%      0.649995    1.869995    0.533573    0.300358    2.059548    2.082500   \n",
              "max      5.440002   15.160003    4.302856    2.621429   30.300324   18.340004   \n",
              "\n",
              "       FB_AMZN_AAPL  FB_AMZN_NFLX  FB_AMZN_GOOGL     FB_AAPL  ...  AMZN_GOOGL  \\\n",
              "count    948.000000    948.000000     948.000000  948.000000  ...  948.000000   \n",
              "mean      -0.102462     -0.180651      -0.057769    0.042042  ...   -0.048328   \n",
              "std        3.977160      3.867681       6.088155    1.497557  ...    5.953528   \n",
              "min      -16.760011    -16.651439     -22.527688   -7.124282  ...  -22.297684   \n",
              "25%       -2.495720     -2.504289      -3.907476   -0.875714  ...   -3.823566   \n",
              "50%       -0.188574     -0.082860      -0.145016    0.015002  ...   -0.160759   \n",
              "75%        2.366429      2.140351       3.693788    0.839287  ...    3.575398   \n",
              "max       18.372864     16.770004      34.950325    6.908570  ...   33.220322   \n",
              "\n",
              "       FB_AAPL_NFLX_GOOGL   AAPL_NFLX  AAPL_NFLX_GOOGL  AAPL_GOOGL  \\\n",
              "count          948.000000  948.000000       948.000000  948.000000   \n",
              "mean             0.111513    0.024777         0.120954    0.147659   \n",
              "std              4.466350    1.178525         4.261305    4.070120   \n",
              "min            -16.141790   -5.154287       -15.431791  -15.736076   \n",
              "25%             -2.543515   -0.648567        -2.403045   -2.323385   \n",
              "50%             -0.055899    0.029999        -0.027958    0.070625   \n",
              "75%              2.702796    0.697143         2.524743    2.374232   \n",
              "max             33.184614    4.769997        31.454611   31.293183   \n",
              "\n",
              "       FB_AMZN_NFLX_GOOGL  NFLX_GOOGL  FB_AMZN_AAPL_GOOGL  FB_AMZN_AAPL_NFLX  \\\n",
              "count          948.000000  948.000000          948.000000         948.000000   \n",
              "mean            -0.084475    0.069471           -0.006286          -0.129168   \n",
              "std              6.327472    3.790524            6.533877           4.248307   \n",
              "min            -24.319118  -15.066076          -24.427690         -18.551440   \n",
              "25%             -4.109271   -2.227885           -4.093805          -2.725707   \n",
              "50%             -0.093163    0.068517           -0.291258          -0.188574   \n",
              "75%              3.953319    2.222651            3.919368           2.498570   \n",
              "max             35.111753   30.461752           35.943184          16.802864   \n",
              "\n",
              "       FBAMZNAAPLNFLXGOOGL  \n",
              "count           948.000000  \n",
              "mean             -0.032992  \n",
              "std               6.775084  \n",
              "min             -26.219119  \n",
              "25%              -4.357336  \n",
              "50%              -0.344598  \n",
              "75%               4.231886  \n",
              "max              36.104612  \n",
              "\n",
              "[8 rows x 31 columns]"
            ],
            "text/html": [
              "\n",
              "  <div id=\"df-f0b9104f-b186-40f8-a54e-24643b80e328\">\n",
              "    <div class=\"colab-df-container\">\n",
              "      <div>\n",
              "<style scoped>\n",
              "    .dataframe tbody tr th:only-of-type {\n",
              "        vertical-align: middle;\n",
              "    }\n",
              "\n",
              "    .dataframe tbody tr th {\n",
              "        vertical-align: top;\n",
              "    }\n",
              "\n",
              "    .dataframe thead th {\n",
              "        text-align: right;\n",
              "    }\n",
              "</style>\n",
              "<table border=\"1\" class=\"dataframe\">\n",
              "  <thead>\n",
              "    <tr style=\"text-align: right;\">\n",
              "      <th></th>\n",
              "      <th>FB</th>\n",
              "      <th>AMZN</th>\n",
              "      <th>AAPL</th>\n",
              "      <th>NFLX</th>\n",
              "      <th>GOOGL</th>\n",
              "      <th>FB_AMZN</th>\n",
              "      <th>FB_AMZN_AAPL</th>\n",
              "      <th>FB_AMZN_NFLX</th>\n",
              "      <th>FB_AMZN_GOOGL</th>\n",
              "      <th>FB_AAPL</th>\n",
              "      <th>...</th>\n",
              "      <th>AMZN_GOOGL</th>\n",
              "      <th>FB_AAPL_NFLX_GOOGL</th>\n",
              "      <th>AAPL_NFLX</th>\n",
              "      <th>AAPL_NFLX_GOOGL</th>\n",
              "      <th>AAPL_GOOGL</th>\n",
              "      <th>FB_AMZN_NFLX_GOOGL</th>\n",
              "      <th>NFLX_GOOGL</th>\n",
              "      <th>FB_AMZN_AAPL_GOOGL</th>\n",
              "      <th>FB_AMZN_AAPL_NFLX</th>\n",
              "      <th>FBAMZNAAPLNFLXGOOGL</th>\n",
              "    </tr>\n",
              "  </thead>\n",
              "  <tbody>\n",
              "    <tr>\n",
              "      <th>count</th>\n",
              "      <td>948.000000</td>\n",
              "      <td>948.000000</td>\n",
              "      <td>948.000000</td>\n",
              "      <td>948.000000</td>\n",
              "      <td>948.000000</td>\n",
              "      <td>948.000000</td>\n",
              "      <td>948.000000</td>\n",
              "      <td>948.000000</td>\n",
              "      <td>948.000000</td>\n",
              "      <td>948.000000</td>\n",
              "      <td>...</td>\n",
              "      <td>948.000000</td>\n",
              "      <td>948.000000</td>\n",
              "      <td>948.000000</td>\n",
              "      <td>948.000000</td>\n",
              "      <td>948.000000</td>\n",
              "      <td>948.000000</td>\n",
              "      <td>948.000000</td>\n",
              "      <td>948.000000</td>\n",
              "      <td>948.000000</td>\n",
              "      <td>948.000000</td>\n",
              "    </tr>\n",
              "    <tr>\n",
              "      <th>mean</th>\n",
              "      <td>-0.009441</td>\n",
              "      <td>-0.144504</td>\n",
              "      <td>0.051483</td>\n",
              "      <td>-0.026706</td>\n",
              "      <td>0.096177</td>\n",
              "      <td>-0.153945</td>\n",
              "      <td>-0.102462</td>\n",
              "      <td>-0.180651</td>\n",
              "      <td>-0.057769</td>\n",
              "      <td>0.042042</td>\n",
              "      <td>...</td>\n",
              "      <td>-0.048328</td>\n",
              "      <td>0.111513</td>\n",
              "      <td>0.024777</td>\n",
              "      <td>0.120954</td>\n",
              "      <td>0.147659</td>\n",
              "      <td>-0.084475</td>\n",
              "      <td>0.069471</td>\n",
              "      <td>-0.006286</td>\n",
              "      <td>-0.129168</td>\n",
              "      <td>-0.032992</td>\n",
              "    </tr>\n",
              "    <tr>\n",
              "      <th>std</th>\n",
              "      <td>1.181737</td>\n",
              "      <td>3.409818</td>\n",
              "      <td>0.880902</td>\n",
              "      <td>0.611546</td>\n",
              "      <td>3.607517</td>\n",
              "      <td>3.601055</td>\n",
              "      <td>3.977160</td>\n",
              "      <td>3.867681</td>\n",
              "      <td>6.088155</td>\n",
              "      <td>1.497557</td>\n",
              "      <td>...</td>\n",
              "      <td>5.953528</td>\n",
              "      <td>4.466350</td>\n",
              "      <td>1.178525</td>\n",
              "      <td>4.261305</td>\n",
              "      <td>4.070120</td>\n",
              "      <td>6.327472</td>\n",
              "      <td>3.790524</td>\n",
              "      <td>6.533877</td>\n",
              "      <td>4.248307</td>\n",
              "      <td>6.775084</td>\n",
              "    </tr>\n",
              "    <tr>\n",
              "      <th>min</th>\n",
              "      <td>-5.059997</td>\n",
              "      <td>-14.630005</td>\n",
              "      <td>-4.394287</td>\n",
              "      <td>-3.412857</td>\n",
              "      <td>-15.370361</td>\n",
              "      <td>-14.860009</td>\n",
              "      <td>-16.760011</td>\n",
              "      <td>-16.651439</td>\n",
              "      <td>-22.527688</td>\n",
              "      <td>-7.124282</td>\n",
              "      <td>...</td>\n",
              "      <td>-22.297684</td>\n",
              "      <td>-16.141790</td>\n",
              "      <td>-5.154287</td>\n",
              "      <td>-15.431791</td>\n",
              "      <td>-15.736076</td>\n",
              "      <td>-24.319118</td>\n",
              "      <td>-15.066076</td>\n",
              "      <td>-24.427690</td>\n",
              "      <td>-18.551440</td>\n",
              "      <td>-26.219119</td>\n",
              "    </tr>\n",
              "    <tr>\n",
              "      <th>25%</th>\n",
              "      <td>-0.700000</td>\n",
              "      <td>-2.167503</td>\n",
              "      <td>-0.407500</td>\n",
              "      <td>-0.323214</td>\n",
              "      <td>-2.052040</td>\n",
              "      <td>-2.442493</td>\n",
              "      <td>-2.495720</td>\n",
              "      <td>-2.504289</td>\n",
              "      <td>-3.907476</td>\n",
              "      <td>-0.875714</td>\n",
              "      <td>...</td>\n",
              "      <td>-3.823566</td>\n",
              "      <td>-2.543515</td>\n",
              "      <td>-0.648567</td>\n",
              "      <td>-2.403045</td>\n",
              "      <td>-2.323385</td>\n",
              "      <td>-4.109271</td>\n",
              "      <td>-2.227885</td>\n",
              "      <td>-4.093805</td>\n",
              "      <td>-2.725707</td>\n",
              "      <td>-4.357336</td>\n",
              "    </tr>\n",
              "    <tr>\n",
              "      <th>50%</th>\n",
              "      <td>-0.029999</td>\n",
              "      <td>-0.070000</td>\n",
              "      <td>0.009287</td>\n",
              "      <td>0.018570</td>\n",
              "      <td>0.100098</td>\n",
              "      <td>-0.139995</td>\n",
              "      <td>-0.188574</td>\n",
              "      <td>-0.082860</td>\n",
              "      <td>-0.145016</td>\n",
              "      <td>0.015002</td>\n",
              "      <td>...</td>\n",
              "      <td>-0.160759</td>\n",
              "      <td>-0.055899</td>\n",
              "      <td>0.029999</td>\n",
              "      <td>-0.027958</td>\n",
              "      <td>0.070625</td>\n",
              "      <td>-0.093163</td>\n",
              "      <td>0.068517</td>\n",
              "      <td>-0.291258</td>\n",
              "      <td>-0.188574</td>\n",
              "      <td>-0.344598</td>\n",
              "    </tr>\n",
              "    <tr>\n",
              "      <th>75%</th>\n",
              "      <td>0.649995</td>\n",
              "      <td>1.869995</td>\n",
              "      <td>0.533573</td>\n",
              "      <td>0.300358</td>\n",
              "      <td>2.059548</td>\n",
              "      <td>2.082500</td>\n",
              "      <td>2.366429</td>\n",
              "      <td>2.140351</td>\n",
              "      <td>3.693788</td>\n",
              "      <td>0.839287</td>\n",
              "      <td>...</td>\n",
              "      <td>3.575398</td>\n",
              "      <td>2.702796</td>\n",
              "      <td>0.697143</td>\n",
              "      <td>2.524743</td>\n",
              "      <td>2.374232</td>\n",
              "      <td>3.953319</td>\n",
              "      <td>2.222651</td>\n",
              "      <td>3.919368</td>\n",
              "      <td>2.498570</td>\n",
              "      <td>4.231886</td>\n",
              "    </tr>\n",
              "    <tr>\n",
              "      <th>max</th>\n",
              "      <td>5.440002</td>\n",
              "      <td>15.160003</td>\n",
              "      <td>4.302856</td>\n",
              "      <td>2.621429</td>\n",
              "      <td>30.300324</td>\n",
              "      <td>18.340004</td>\n",
              "      <td>18.372864</td>\n",
              "      <td>16.770004</td>\n",
              "      <td>34.950325</td>\n",
              "      <td>6.908570</td>\n",
              "      <td>...</td>\n",
              "      <td>33.220322</td>\n",
              "      <td>33.184614</td>\n",
              "      <td>4.769997</td>\n",
              "      <td>31.454611</td>\n",
              "      <td>31.293183</td>\n",
              "      <td>35.111753</td>\n",
              "      <td>30.461752</td>\n",
              "      <td>35.943184</td>\n",
              "      <td>16.802864</td>\n",
              "      <td>36.104612</td>\n",
              "    </tr>\n",
              "  </tbody>\n",
              "</table>\n",
              "<p>8 rows × 31 columns</p>\n",
              "</div>\n",
              "      <button class=\"colab-df-convert\" onclick=\"convertToInteractive('df-f0b9104f-b186-40f8-a54e-24643b80e328')\"\n",
              "              title=\"Convert this dataframe to an interactive table.\"\n",
              "              style=\"display:none;\">\n",
              "        \n",
              "  <svg xmlns=\"http://www.w3.org/2000/svg\" height=\"24px\"viewBox=\"0 0 24 24\"\n",
              "       width=\"24px\">\n",
              "    <path d=\"M0 0h24v24H0V0z\" fill=\"none\"/>\n",
              "    <path d=\"M18.56 5.44l.94 2.06.94-2.06 2.06-.94-2.06-.94-.94-2.06-.94 2.06-2.06.94zm-11 1L8.5 8.5l.94-2.06 2.06-.94-2.06-.94L8.5 2.5l-.94 2.06-2.06.94zm10 10l.94 2.06.94-2.06 2.06-.94-2.06-.94-.94-2.06-.94 2.06-2.06.94z\"/><path d=\"M17.41 7.96l-1.37-1.37c-.4-.4-.92-.59-1.43-.59-.52 0-1.04.2-1.43.59L10.3 9.45l-7.72 7.72c-.78.78-.78 2.05 0 2.83L4 21.41c.39.39.9.59 1.41.59.51 0 1.02-.2 1.41-.59l7.78-7.78 2.81-2.81c.8-.78.8-2.07 0-2.86zM5.41 20L4 18.59l7.72-7.72 1.47 1.35L5.41 20z\"/>\n",
              "  </svg>\n",
              "      </button>\n",
              "      \n",
              "  <style>\n",
              "    .colab-df-container {\n",
              "      display:flex;\n",
              "      flex-wrap:wrap;\n",
              "      gap: 12px;\n",
              "    }\n",
              "\n",
              "    .colab-df-convert {\n",
              "      background-color: #E8F0FE;\n",
              "      border: none;\n",
              "      border-radius: 50%;\n",
              "      cursor: pointer;\n",
              "      display: none;\n",
              "      fill: #1967D2;\n",
              "      height: 32px;\n",
              "      padding: 0 0 0 0;\n",
              "      width: 32px;\n",
              "    }\n",
              "\n",
              "    .colab-df-convert:hover {\n",
              "      background-color: #E2EBFA;\n",
              "      box-shadow: 0px 1px 2px rgba(60, 64, 67, 0.3), 0px 1px 3px 1px rgba(60, 64, 67, 0.15);\n",
              "      fill: #174EA6;\n",
              "    }\n",
              "\n",
              "    [theme=dark] .colab-df-convert {\n",
              "      background-color: #3B4455;\n",
              "      fill: #D2E3FC;\n",
              "    }\n",
              "\n",
              "    [theme=dark] .colab-df-convert:hover {\n",
              "      background-color: #434B5C;\n",
              "      box-shadow: 0px 1px 3px 1px rgba(0, 0, 0, 0.15);\n",
              "      filter: drop-shadow(0px 1px 2px rgba(0, 0, 0, 0.3));\n",
              "      fill: #FFFFFF;\n",
              "    }\n",
              "  </style>\n",
              "\n",
              "      <script>\n",
              "        const buttonEl =\n",
              "          document.querySelector('#df-f0b9104f-b186-40f8-a54e-24643b80e328 button.colab-df-convert');\n",
              "        buttonEl.style.display =\n",
              "          google.colab.kernel.accessAllowed ? 'block' : 'none';\n",
              "\n",
              "        async function convertToInteractive(key) {\n",
              "          const element = document.querySelector('#df-f0b9104f-b186-40f8-a54e-24643b80e328');\n",
              "          const dataTable =\n",
              "            await google.colab.kernel.invokeFunction('convertToInteractive',\n",
              "                                                     [key], {});\n",
              "          if (!dataTable) return;\n",
              "\n",
              "          const docLinkHtml = 'Like what you see? Visit the ' +\n",
              "            '<a target=\"_blank\" href=https://colab.research.google.com/notebooks/data_table.ipynb>data table notebook</a>'\n",
              "            + ' to learn more about interactive tables.';\n",
              "          element.innerHTML = '';\n",
              "          dataTable['output_type'] = 'display_data';\n",
              "          await google.colab.output.renderOutput(dataTable, element);\n",
              "          const docLink = document.createElement('div');\n",
              "          docLink.innerHTML = docLinkHtml;\n",
              "          element.appendChild(docLink);\n",
              "        }\n",
              "      </script>\n",
              "    </div>\n",
              "  </div>\n",
              "  "
            ]
          },
          "metadata": {},
          "execution_count": 593
        }
      ]
    },
    {
      "cell_type": "code",
      "source": [
        "stock_names = df_new.columns"
      ],
      "metadata": {
        "colab": {
          "base_uri": "https://localhost:8080/"
        },
        "id": "ymcZzOGueWgx",
        "outputId": "50919255-b5ee-433f-9b83-6e0db2504904"
      },
      "execution_count": null,
      "outputs": [
        {
          "output_type": "stream",
          "name": "stderr",
          "text": [
            "/usr/local/lib/python3.9/dist-packages/ipykernel/ipkernel.py:283: DeprecationWarning: `should_run_async` will not call `transform_cell` automatically in the future. Please pass the result to `transformed_cell` argument and any exception that happen during thetransform in `preprocessing_exc_tuple` in IPython 7.17 and above.\n",
            "  and should_run_async(code)\n"
          ]
        }
      ]
    },
    {
      "cell_type": "markdown",
      "source": [
        "# Costumizing Environment"
      ],
      "metadata": {
        "id": "ZZnUWgnmamK-"
      }
    },
    {
      "cell_type": "code",
      "source": [
        "class PortfolioEnv(gym.Env):\n",
        "    \"\"\"A stock trading environment for OpenAI gym\"\"\"\n",
        "    metadata = {'render.modes': ['human']}\n",
        "\n",
        "    def __init__(self, data):\n",
        "        super(PortfolioEnv, self).__init__()\n",
        "\n",
        "        self.df = data\n",
        "\n",
        "        self.action_space = spaces.Discrete(31)\n",
        "\n",
        "        self.observation_space = spaces.Box(\n",
        "            low=-50, high=100, shape=(31,1), dtype=np.float16)\n",
        "        \n",
        "        self.current_step = 0\n",
        "\n",
        "    def _next_observation(self):\n",
        "\n",
        "        obs = self.df.iloc[self.current_step,:]\n",
        "\n",
        "        return obs\n",
        "\n",
        "    def step(self, action):\n",
        "        # Execute one time step within the environment\n",
        "\n",
        "        self.current_step += 1\n",
        "\n",
        "        reward = self.df.iloc[self.current_step-1, action]\n",
        "\n",
        "        done = self.current_step >= 30\n",
        "\n",
        "        obs = self._next_observation()\n",
        "\n",
        "        return obs, reward, done, {}\n",
        "\n",
        "    def reset(self):\n",
        "\n",
        "        # Set the current step to the beginning of a 30 day trial\n",
        "\n",
        "        self.current_step = 0\n",
        "\n",
        "        return self._next_observation()\n",
        "\n",
        "    def render(self, mode='human', close=False):\n",
        "        pass\n"
      ],
      "metadata": {
        "id": "aRMsfMdlaWAX"
      },
      "execution_count": null,
      "outputs": []
    },
    {
      "cell_type": "code",
      "source": [
        "\n",
        "# Create an instance of the custom environment with your data\n",
        "env = PortfolioEnv(df_new)\n",
        "\n",
        "device = torch.device(\"cuda\" if torch.cuda.is_available() else \"cpu\")"
      ],
      "metadata": {
        "id": "ROgVv3VcmA8U"
      },
      "execution_count": null,
      "outputs": []
    },
    {
      "cell_type": "markdown",
      "source": [
        "# Deep Q-Network"
      ],
      "metadata": {
        "id": "SffZ-2Y7nKY-"
      }
    },
    {
      "cell_type": "code",
      "source": [
        "Transition = namedtuple('Transition',\n",
        "                        ('state', 'action', 'next_state', 'reward'))\n",
        "\n",
        "class ReplayMemory(object):\n",
        "\n",
        "    def __init__(self, capacity):\n",
        "        self.memory = deque([], maxlen=capacity)\n",
        "\n",
        "    def push(self, *args):\n",
        "        \"\"\"Save a transition\"\"\"\n",
        "        self.memory.append(Transition(*args))\n",
        "\n",
        "    def sample(self, batch_size):\n",
        "        return random.sample(self.memory, batch_size)\n",
        "\n",
        "    def __len__(self):\n",
        "        return len(self.memory)"
      ],
      "metadata": {
        "id": "KnsG4QOOqi0f"
      },
      "execution_count": null,
      "outputs": []
    },
    {
      "cell_type": "code",
      "source": [
        "class DQN(nn.Module):\n",
        "\n",
        "    def __init__(self, n_observations, n_actions):\n",
        "        super(DQN, self).__init__()\n",
        "        self.layer1 = nn.Linear(n_observations, 512)\n",
        "        self.layer2 = nn.Linear(512, 512)\n",
        "        self.layer3 = nn.Linear(512, n_actions)\n",
        "\n",
        "    # Called with either one element to determine next action, or a batch\n",
        "    # during optimization. Returns tensor([[left0exp,right0exp]...]).\n",
        "    def forward(self, x):\n",
        "        x = F.relu(self.layer1(x))\n",
        "        x = F.relu(self.layer2(x))\n",
        "        return self.layer3(x)\n",
        "      \n",
        "      "
      ],
      "metadata": {
        "id": "vtGuIh7dqrep"
      },
      "execution_count": null,
      "outputs": []
    },
    {
      "cell_type": "code",
      "source": [
        "# BATCH_SIZE is the number of transitions sampled from the replay buffer\n",
        "# GAMMA is the discount factor as mentioned in the previous section\n",
        "# EPS_START is the starting value of epsilon\n",
        "# EPS_END is the final value of epsilon\n",
        "# EPS_DECAY controls the rate of exponential decay of epsilon, higher means a slower decay\n",
        "# TAU is the update rate of the target network\n",
        "# LR is the learning rate of the AdamW optimizer\n",
        "BATCH_SIZE = 30\n",
        "GAMMA = 0.99\n",
        "EPS_START = 0.9\n",
        "EPS_END = 0.05\n",
        "EPS_DECAY = 500\n",
        "TAU = 0.005\n",
        "LR = 1e-4\n",
        "\n",
        "actions_res = []\n",
        "\n",
        "# Get number of actions from gym action space\n",
        "n_actions = env.action_space.n\n",
        "# Get the number of state observations\n",
        "state = env.reset()\n",
        "n_observations = len(state)\n",
        "\n",
        "policy_net = DQN(n_observations, n_actions).to(device)\n",
        "target_net = DQN(n_observations, n_actions).to(device)\n",
        "target_net.load_state_dict(policy_net.state_dict())\n",
        "\n",
        "optimizer = optim.AdamW(policy_net.parameters(), lr=LR, amsgrad=True)\n",
        "\n",
        "memory = ReplayMemory(1000)\n",
        "\n",
        "\n",
        "steps_done = 0\n",
        "\n",
        "\n",
        "def select_action(state):\n",
        "    global steps_done\n",
        "    sample = random.random()\n",
        "    eps_threshold = EPS_END + (EPS_START - EPS_END) * \\\n",
        "        math.exp(-1. * steps_done / EPS_DECAY)\n",
        "    steps_done += 1\n",
        "    if sample > eps_threshold:\n",
        "        with torch.no_grad():\n",
        "            # t.max(1) will return the largest column value of each row.\n",
        "            # second column on max result is index of where max element was\n",
        "            # found, so we pick action with the larger expected reward.\n",
        "            return policy_net(state).max(1)[1].view(1, 1)\n",
        "    else:\n",
        "        return torch.tensor([[env.action_space.sample()]], device=device, dtype=torch.long)\n",
        "\n",
        "\n",
        "episode_durations = []\n",
        "\n",
        "\n",
        "def plot_durations(show_result=False):\n",
        "    plt.figure(1)\n",
        "    durations_t = torch.tensor(episode_durations, dtype=torch.float)\n",
        "    if show_result:\n",
        "        plt.legend()\n",
        "        plt.title('Result')\n",
        "    else:\n",
        "\n",
        "        plt.clf()\n",
        "        plt.title('Training...')\n",
        "    plt.xlabel('Episode')\n",
        "    plt.ylabel('Average Batch Reward')\n",
        "    plt.plot(durations_t.numpy(),label='Average Batch Reward')\n",
        "    # Take 100 episode averages and plot them too\n",
        "    if len(durations_t) >= 30:\n",
        "        means = durations_t.unfold(0, 30, 1).mean(1).view(-1)\n",
        "        means = torch.cat((torch.zeros(29), means))\n",
        "        plt.plot(means.numpy(),label = \"Average over last 30 epoches\")\n",
        "\n",
        "\n",
        "    if is_ipython:\n",
        "        if not show_result:\n",
        "\n",
        "            display.display(plt.gcf())\n",
        "            display.clear_output(wait=True)\n",
        "\n"
      ],
      "metadata": {
        "id": "52AQVhU6q7s5"
      },
      "execution_count": null,
      "outputs": []
    },
    {
      "cell_type": "code",
      "source": [
        "def optimize_model():\n",
        "    if len(memory) < BATCH_SIZE:\n",
        "        return\n",
        "    transitions = memory.sample(BATCH_SIZE)\n",
        "    # Transpose the batch (see https://stackoverflow.com/a/19343/3343043 for\n",
        "    # detailed explanation). This converts batch-array of Transitions\n",
        "    # to Transition of batch-arrays.\n",
        "    batch = Transition(*zip(*transitions))\n",
        "\n",
        "    # Compute a mask of non-final states and concatenate the batch elements\n",
        "    # (a final state would've been the one after which simulation ended)\n",
        "    non_final_mask = torch.tensor(tuple(map(lambda s: s is not None,\n",
        "                                          batch.next_state)), device=device, dtype=torch.bool)\n",
        "    non_final_next_states = torch.cat([s for s in batch.next_state\n",
        "                                                if s is not None])\n",
        "    state_batch = torch.cat(batch.state)\n",
        "    action_batch = torch.cat(batch.action)\n",
        "    reward_batch = torch.cat(batch.reward)\n",
        "\n",
        "    actions_res.append(action_batch.numpy())\n",
        "\n",
        "    # Compute Q(s_t, a) - the model computes Q(s_t), then we select the\n",
        "    # columns of actions taken. These are the actions which would've been taken\n",
        "    # for each batch state according to policy_net\n",
        "    state_action_values = policy_net(state_batch).gather(1, action_batch)\n",
        "\n",
        "    # Compute V(s_{t+1}) for all next states.\n",
        "    # Expected values of actions for non_final_next_states are computed based\n",
        "    # on the \"older\" target_net; selecting their best reward with max(1)[0].\n",
        "    # This is merged based on the mask, such that we'll have either the expected\n",
        "    # state value or 0 in case the state was final.\n",
        "    next_state_values = torch.zeros(BATCH_SIZE, device=device)\n",
        "    with torch.no_grad():\n",
        "        next_state_values[non_final_mask] = target_net(non_final_next_states).max(1)[0]\n",
        "    # Compute the expected Q values\n",
        "    expected_state_action_values = (next_state_values * GAMMA) + reward_batch\n",
        "\n",
        "    # Compute Huber loss\n",
        "    criterion = nn.SmoothL1Loss()\n",
        "    loss = criterion(state_action_values, expected_state_action_values.unsqueeze(1))\n",
        "\n",
        "    # Optimize the model\n",
        "    optimizer.zero_grad()\n",
        "    loss.backward()\n",
        "    # In-place gradient clipping\n",
        "    torch.nn.utils.clip_grad_value_(policy_net.parameters(), 100)\n",
        "    optimizer.step()\n",
        "\n",
        "    return torch.mean(reward_batch).item()\n"
      ],
      "metadata": {
        "id": "jVdkVXQcr7Tu"
      },
      "execution_count": null,
      "outputs": []
    },
    {
      "cell_type": "code",
      "source": [
        "num_episodes = 120\n",
        "\n",
        "action_res = []\n",
        "\n",
        "for i_episode in range(num_episodes):\n",
        "    # Initialize the environment and get it's state\n",
        "    state = env.reset()\n",
        "\n",
        "    state = torch.tensor(state, dtype=torch.float32, device=device).unsqueeze(0)\n",
        "    for t in count():\n",
        "        action = select_action(state)\n",
        "        observation, reward, terminated,  _ = env.step(action.item())\n",
        "        reward = torch.tensor([reward], device=device)\n",
        "        done = terminated \n",
        "        \n",
        "        if terminated:\n",
        "            next_state = None\n",
        "        else:\n",
        "            next_state = torch.tensor(observation, dtype=torch.float32, device=device).unsqueeze(0)\n",
        "\n",
        "        # Store the transition in memory\n",
        "        memory.push(state, action, next_state, reward)\n",
        "\n",
        "        # Move to the next state\n",
        "        state = next_state\n",
        "\n",
        "        # Perform one step of the optimization (on the policy network)\n",
        "        reward = optimize_model()\n",
        "\n",
        "        # Soft update of the target network's weights\n",
        "        # θ′ ← τ θ + (1 −τ )θ′\n",
        "        target_net_state_dict = target_net.state_dict()\n",
        "        policy_net_state_dict = policy_net.state_dict()\n",
        "        for key in policy_net_state_dict:\n",
        "            target_net_state_dict[key] = policy_net_state_dict[key]*TAU + target_net_state_dict[key]*(1-TAU)\n",
        "        target_net.load_state_dict(target_net_state_dict)\n",
        "\n",
        "        if done:\n",
        "            episode_durations.append(reward)\n",
        "            plot_durations()\n",
        "            break\n",
        "\n",
        "print('Complete')\n",
        "plot_durations(show_result=True)\n",
        "plt.ioff()\n",
        "plt.show()"
      ],
      "metadata": {
        "colab": {
          "base_uri": "https://localhost:8080/",
          "height": 489
        },
        "id": "Tk33VhQUsTdV",
        "outputId": "9cc3304c-2312-44e4-cf73-ef480c1d3864"
      },
      "execution_count": null,
      "outputs": [
        {
          "output_type": "stream",
          "name": "stdout",
          "text": [
            "Complete\n"
          ]
        },
        {
          "output_type": "display_data",
          "data": {
            "text/plain": [
              "<Figure size 640x480 with 1 Axes>"
            ],
            "image/png": "[encoded data removed]"
          },
          "metadata": {}
        }
      ]
    },
    {
      "cell_type": "code",
      "source": [
        "for i in range(num_episodes):\n",
        "  count = 0\n",
        "  for j in actions_res:\n",
        "    if i == count:\n",
        "      continue\n",
        "    if np.array_equal(actions_res[i],j):\n",
        "      print(\"found\")\n",
        "    count+=1"
      ],
      "metadata": {
        "id": "Exgf4SB-5WdM"
      },
      "execution_count": null,
      "outputs": []
    },
    {
      "cell_type": "code",
      "source": [
        "final_converted = convert(final_30.copy())\n",
        "dqn_actions = []\n",
        "\n",
        "approximated_values = []\n",
        "\n",
        "for i in range(30):\n",
        "  step = torch.tensor(np.array([final_converted.iloc[i]]), dtype=torch.float32, device=device).unsqueeze(0)\n",
        "  dqn_actions.append(policy_net(step[0]).max(1)[1].view(1, 1).item())\n",
        "  approximated_values.append(policy_net(step[0]).tolist()[0])"
      ],
      "metadata": {
        "id": "fk3B3lbT6_0L"
      },
      "execution_count": null,
      "outputs": []
    },
    {
      "cell_type": "markdown",
      "source": [
        "# Recurrent Neural Network - LSTM"
      ],
      "metadata": {
        "id": "dZxXuKMy8A23"
      }
    },
    {
      "cell_type": "code",
      "source": [
        "data=np.array([df_copy])"
      ],
      "metadata": {
        "colab": {
          "base_uri": "https://localhost:8080/"
        },
        "id": "DGI9jh0t9HiN",
        "outputId": "804408c9-22ef-4f96-ce6b-bd3868722438"
      },
      "execution_count": null,
      "outputs": [
        {
          "output_type": "stream",
          "name": "stderr",
          "text": [
            "/usr/local/lib/python3.9/dist-packages/ipykernel/ipkernel.py:283: DeprecationWarning: `should_run_async` will not call `transform_cell` automatically in the future. Please pass the result to `transformed_cell` argument and any exception that happen during thetransform in `preprocessing_exc_tuple` in IPython 7.17 and above.\n",
            "  and should_run_async(code)\n"
          ]
        }
      ]
    },
    {
      "cell_type": "code",
      "source": [
        "data = data.reshape(31,30,5)\n",
        "train_df = data[0:25,:,:]\n",
        "target = data[1:26,:,:]\n",
        "\n",
        "val_df = data[25:30,:,:]\n",
        "val_target = data[26:31,:,:]\n"
      ],
      "metadata": {
        "id": "gs-k00hQ8klM"
      },
      "execution_count": null,
      "outputs": []
    },
    {
      "cell_type": "code",
      "source": [
        "model = Sequential()\n",
        "model.add(LSTM(5,activation='relu',return_sequences=True,input_shape=(30,5))) #input takes any steps, two features (var1 and var2)\n",
        "\n",
        "model.add(Dense(5))\n",
        "\n",
        "\n",
        "\n",
        "model.compile(loss='mean_squared_error', optimizer='adam', metrics=['mean_absolute_error'])\n",
        "\n",
        "epochs = 200\n",
        "batch_size = 1\n",
        "model.summary()\n",
        "def root_mean_squared_error(y_true, y_pred):\n",
        "        return K.sqrt(K.mean(K.square(y_pred - y_true)))\n",
        "model.compile(optimizer=Adam(lr=0.001), loss=root_mean_squared_error)#change it here to switch between rmse and mse\n",
        "model.fit(train_df, target, epochs=epochs, validation_data=(val_df ,val_target) ,batch_size=batch_size)"
      ],
      "metadata": {
        "colab": {
          "base_uri": "https://localhost:8080/"
        },
        "id": "Y8es9TVQ8GfZ",
        "outputId": "2caa3159-8a8a-479f-ed76-414a75f3e6a6"
      },
      "execution_count": null,
      "outputs": [
        {
          "output_type": "stream",
          "name": "stdout",
          "text": [
            "Model: \"sequential_15\"\n",
            "_________________________________________________________________\n",
            " Layer (type)                Output Shape              Param #   \n",
            "=================================================================\n",
            " lstm_17 (LSTM)              (None, 30, 5)             220       \n",
            "                                                                 \n",
            " dense_17 (Dense)            (None, 30, 5)             30        \n",
            "                                                                 \n",
            "=================================================================\n",
            "Total params: 250\n",
            "Trainable params: 250\n",
            "Non-trainable params: 0\n",
            "_________________________________________________________________\n"
          ]
        },
        {
          "output_type": "stream",
          "name": "stderr",
          "text": [
            "/usr/local/lib/python3.9/dist-packages/keras/optimizers/legacy/adam.py:117: UserWarning: The `lr` argument is deprecated, use `learning_rate` instead.\n",
            "  super().__init__(name, **kwargs)\n"
          ]
        },
        {
          "output_type": "stream",
          "name": "stdout",
          "text": [
            "Epoch 1/200\n",
            "25/25 [==============================] - 1s 18ms/step - loss: 2.3419 - val_loss: 2.4604\n",
            "Epoch 2/200\n",
            "25/25 [==============================] - 0s 7ms/step - loss: 2.3116 - val_loss: 2.4330\n",
            "Epoch 3/200\n",
            "25/25 [==============================] - 0s 8ms/step - loss: 2.2954 - val_loss: 2.4170\n",
            "Epoch 4/200\n",
            "25/25 [==============================] - 0s 8ms/step - loss: 2.2858 - val_loss: 2.4066\n",
            "Epoch 5/200\n",
            "25/25 [==============================] - 0s 7ms/step - loss: 2.2790 - val_loss: 2.4005\n",
            "Epoch 6/200\n",
            "25/25 [==============================] - 0s 7ms/step - loss: 2.2745 - val_loss: 2.3956\n",
            "Epoch 7/200\n",
            "25/25 [==============================] - 0s 7ms/step - loss: 2.2714 - val_loss: 2.3914\n",
            "Epoch 8/200\n",
            "25/25 [==============================] - 0s 7ms/step - loss: 2.2687 - val_loss: 2.3882\n",
            "Epoch 9/200\n",
            "25/25 [==============================] - 0s 7ms/step - loss: 2.2666 - val_loss: 2.3858\n",
            "Epoch 10/200\n",
            "25/25 [==============================] - 0s 7ms/step - loss: 2.2650 - val_loss: 2.3836\n",
            "Epoch 11/200\n",
            "25/25 [==============================] - 0s 7ms/step - loss: 2.2637 - val_loss: 2.3821\n",
            "Epoch 12/200\n",
            "25/25 [==============================] - 0s 7ms/step - loss: 2.2625 - val_loss: 2.3805\n",
            "Epoch 13/200\n",
            "25/25 [==============================] - 0s 7ms/step - loss: 2.2616 - val_loss: 2.3788\n",
            "Epoch 14/200\n",
            "25/25 [==============================] - 0s 7ms/step - loss: 2.2607 - val_loss: 2.3775\n",
            "Epoch 15/200\n",
            "25/25 [==============================] - 0s 7ms/step - loss: 2.2599 - val_loss: 2.3765\n",
            "Epoch 16/200\n",
            "25/25 [==============================] - 0s 7ms/step - loss: 2.2593 - val_loss: 2.3757\n",
            "Epoch 17/200\n",
            "25/25 [==============================] - 0s 7ms/step - loss: 2.2587 - val_loss: 2.3749\n",
            "Epoch 18/200\n",
            "25/25 [==============================] - 0s 7ms/step - loss: 2.2581 - val_loss: 2.3741\n",
            "Epoch 19/200\n",
            "25/25 [==============================] - 0s 8ms/step - loss: 2.2576 - val_loss: 2.3734\n",
            "Epoch 20/200\n",
            "25/25 [==============================] - 0s 8ms/step - loss: 2.2571 - val_loss: 2.3727\n",
            "Epoch 21/200\n",
            "25/25 [==============================] - 0s 8ms/step - loss: 2.2566 - val_loss: 2.3720\n",
            "Epoch 22/200\n",
            "25/25 [==============================] - 0s 7ms/step - loss: 2.2561 - val_loss: 2.3714\n",
            "Epoch 23/200\n",
            "25/25 [==============================] - 0s 7ms/step - loss: 2.2557 - val_loss: 2.3706\n",
            "Epoch 24/200\n",
            "25/25 [==============================] - 0s 7ms/step - loss: 2.2553 - val_loss: 2.3699\n",
            "Epoch 25/200\n",
            "25/25 [==============================] - 0s 7ms/step - loss: 2.2549 - val_loss: 2.3695\n",
            "Epoch 26/200\n",
            "25/25 [==============================] - 0s 9ms/step - loss: 2.2544 - val_loss: 2.3688\n",
            "Epoch 27/200\n",
            "25/25 [==============================] - 0s 12ms/step - loss: 2.2540 - val_loss: 2.3683\n",
            "Epoch 28/200\n",
            "25/25 [==============================] - 0s 12ms/step - loss: 2.2535 - val_loss: 2.3677\n",
            "Epoch 29/200\n",
            "25/25 [==============================] - 0s 12ms/step - loss: 2.2529 - val_loss: 2.3670\n",
            "Epoch 30/200\n",
            "25/25 [==============================] - 0s 12ms/step - loss: 2.2525 - val_loss: 2.3667\n",
            "Epoch 31/200\n",
            "25/25 [==============================] - 0s 12ms/step - loss: 2.2517 - val_loss: 2.3661\n",
            "Epoch 32/200\n",
            "25/25 [==============================] - 0s 12ms/step - loss: 2.2511 - val_loss: 2.3655\n",
            "Epoch 33/200\n",
            "25/25 [==============================] - 0s 13ms/step - loss: 2.2505 - val_loss: 2.3651\n",
            "Epoch 34/200\n",
            "25/25 [==============================] - 0s 12ms/step - loss: 2.2499 - val_loss: 2.3647\n",
            "Epoch 35/200\n",
            "25/25 [==============================] - 0s 12ms/step - loss: 2.2492 - val_loss: 2.3646\n",
            "Epoch 36/200\n",
            "25/25 [==============================] - 0s 14ms/step - loss: 2.2486 - val_loss: 2.3646\n",
            "Epoch 37/200\n",
            "25/25 [==============================] - 0s 17ms/step - loss: 2.2477 - val_loss: 2.3652\n",
            "Epoch 38/200\n",
            "25/25 [==============================] - 0s 12ms/step - loss: 2.2469 - val_loss: 2.3654\n",
            "Epoch 39/200\n",
            "25/25 [==============================] - 0s 12ms/step - loss: 2.2460 - val_loss: 2.3655\n",
            "Epoch 40/200\n",
            "25/25 [==============================] - 0s 7ms/step - loss: 2.2451 - val_loss: 2.3669\n",
            "Epoch 41/200\n",
            "25/25 [==============================] - 0s 8ms/step - loss: 2.2440 - val_loss: 2.3679\n",
            "Epoch 42/200\n",
            "25/25 [==============================] - 0s 8ms/step - loss: 2.2431 - val_loss: 2.3719\n",
            "Epoch 43/200\n",
            "25/25 [==============================] - 0s 11ms/step - loss: 2.2421 - val_loss: 2.3765\n",
            "Epoch 44/200\n",
            "25/25 [==============================] - 0s 7ms/step - loss: 2.2413 - val_loss: 2.3844\n",
            "Epoch 45/200\n",
            "25/25 [==============================] - 0s 8ms/step - loss: 2.2402 - val_loss: 2.3901\n",
            "Epoch 46/200\n",
            "25/25 [==============================] - 0s 8ms/step - loss: 2.2393 - val_loss: 2.4041\n",
            "Epoch 47/200\n",
            "25/25 [==============================] - 0s 8ms/step - loss: 2.2383 - val_loss: 2.4058\n",
            "Epoch 48/200\n",
            "25/25 [==============================] - 0s 18ms/step - loss: 2.2375 - val_loss: 2.4342\n",
            "Epoch 49/200\n",
            "25/25 [==============================] - 0s 17ms/step - loss: 2.2365 - val_loss: 2.4773\n",
            "Epoch 50/200\n",
            "25/25 [==============================] - 0s 20ms/step - loss: 2.2354 - val_loss: 2.5078\n",
            "Epoch 51/200\n",
            "25/25 [==============================] - 0s 18ms/step - loss: 2.2345 - val_loss: 2.5236\n",
            "Epoch 52/200\n",
            "25/25 [==============================] - 1s 20ms/step - loss: 2.2332 - val_loss: 2.6645\n",
            "Epoch 53/200\n",
            "25/25 [==============================] - 0s 16ms/step - loss: 2.2327 - val_loss: 2.7138\n",
            "Epoch 54/200\n",
            "25/25 [==============================] - 0s 19ms/step - loss: 2.2316 - val_loss: 2.6962\n",
            "Epoch 55/200\n",
            "25/25 [==============================] - 0s 19ms/step - loss: 2.2299 - val_loss: 3.1983\n",
            "Epoch 56/200\n",
            "25/25 [==============================] - 0s 20ms/step - loss: 2.2294 - val_loss: 2.7743\n",
            "Epoch 57/200\n",
            "25/25 [==============================] - 0s 10ms/step - loss: 2.2284 - val_loss: 3.0608\n",
            "Epoch 58/200\n",
            "25/25 [==============================] - 0s 8ms/step - loss: 2.2269 - val_loss: 3.2127\n",
            "Epoch 59/200\n",
            "25/25 [==============================] - 0s 8ms/step - loss: 2.2258 - val_loss: 3.1895\n",
            "Epoch 60/200\n",
            "25/25 [==============================] - 0s 7ms/step - loss: 2.2247 - val_loss: 3.3779\n",
            "Epoch 61/200\n",
            "25/25 [==============================] - 0s 7ms/step - loss: 2.2235 - val_loss: 3.5525\n",
            "Epoch 62/200\n",
            "25/25 [==============================] - 0s 7ms/step - loss: 2.2222 - val_loss: 3.5264\n",
            "Epoch 63/200\n",
            "25/25 [==============================] - 0s 8ms/step - loss: 2.2211 - val_loss: 3.7362\n",
            "Epoch 64/200\n",
            "25/25 [==============================] - 0s 8ms/step - loss: 2.2197 - val_loss: 3.7746\n",
            "Epoch 65/200\n",
            "25/25 [==============================] - 0s 8ms/step - loss: 2.2180 - val_loss: 3.8868\n",
            "Epoch 66/200\n",
            "25/25 [==============================] - 0s 7ms/step - loss: 2.2165 - val_loss: 3.9626\n",
            "Epoch 67/200\n",
            "25/25 [==============================] - 0s 7ms/step - loss: 2.2151 - val_loss: 4.0475\n",
            "Epoch 68/200\n",
            "25/25 [==============================] - 0s 7ms/step - loss: 2.2140 - val_loss: 4.3130\n",
            "Epoch 69/200\n",
            "25/25 [==============================] - 0s 8ms/step - loss: 2.2123 - val_loss: 4.0203\n",
            "Epoch 70/200\n",
            "25/25 [==============================] - 0s 7ms/step - loss: 2.2108 - val_loss: 3.9960\n",
            "Epoch 71/200\n",
            "25/25 [==============================] - 0s 9ms/step - loss: 2.2095 - val_loss: 3.8934\n",
            "Epoch 72/200\n",
            "25/25 [==============================] - 0s 7ms/step - loss: 2.2078 - val_loss: 3.9450\n",
            "Epoch 73/200\n",
            "25/25 [==============================] - 0s 7ms/step - loss: 2.2062 - val_loss: 3.9571\n",
            "Epoch 74/200\n",
            "25/25 [==============================] - 0s 8ms/step - loss: 2.2052 - val_loss: 4.0162\n",
            "Epoch 75/200\n",
            "25/25 [==============================] - 0s 8ms/step - loss: 2.2035 - val_loss: 4.1100\n",
            "Epoch 76/200\n",
            "25/25 [==============================] - 0s 7ms/step - loss: 2.2019 - val_loss: 4.1749\n",
            "Epoch 77/200\n",
            "25/25 [==============================] - 0s 8ms/step - loss: 2.2003 - val_loss: 4.2393\n",
            "Epoch 78/200\n",
            "25/25 [==============================] - 0s 12ms/step - loss: 2.1988 - val_loss: 5.3324\n",
            "Epoch 79/200\n",
            "25/25 [==============================] - 0s 12ms/step - loss: 2.1976 - val_loss: 6.0828\n",
            "Epoch 80/200\n",
            "25/25 [==============================] - 0s 12ms/step - loss: 2.1958 - val_loss: 5.6393\n",
            "Epoch 81/200\n",
            "25/25 [==============================] - 0s 12ms/step - loss: 2.1946 - val_loss: 5.6221\n",
            "Epoch 82/200\n",
            "25/25 [==============================] - 0s 12ms/step - loss: 2.1926 - val_loss: 5.9091\n",
            "Epoch 83/200\n",
            "25/25 [==============================] - 0s 12ms/step - loss: 2.1914 - val_loss: 6.1755\n",
            "Epoch 84/200\n",
            "25/25 [==============================] - 0s 11ms/step - loss: 2.1899 - val_loss: 6.2530\n",
            "Epoch 85/200\n",
            "25/25 [==============================] - 0s 11ms/step - loss: 2.1880 - val_loss: 6.3711\n",
            "Epoch 86/200\n",
            "25/25 [==============================] - 0s 12ms/step - loss: 2.1866 - val_loss: 6.3461\n",
            "Epoch 87/200\n",
            "25/25 [==============================] - 0s 13ms/step - loss: 2.1846 - val_loss: 6.0407\n",
            "Epoch 88/200\n",
            "25/25 [==============================] - 0s 11ms/step - loss: 2.1831 - val_loss: 5.5166\n",
            "Epoch 89/200\n",
            "25/25 [==============================] - 0s 12ms/step - loss: 2.1814 - val_loss: 5.4576\n",
            "Epoch 90/200\n",
            "25/25 [==============================] - 0s 15ms/step - loss: 2.1790 - val_loss: 5.3461\n",
            "Epoch 91/200\n",
            "25/25 [==============================] - 0s 7ms/step - loss: 2.1772 - val_loss: 5.0828\n",
            "Epoch 92/200\n",
            "25/25 [==============================] - 0s 7ms/step - loss: 2.1752 - val_loss: 5.0684\n",
            "Epoch 93/200\n",
            "25/25 [==============================] - 0s 8ms/step - loss: 2.1740 - val_loss: 4.6045\n",
            "Epoch 94/200\n",
            "25/25 [==============================] - 0s 8ms/step - loss: 2.1730 - val_loss: 4.3484\n",
            "Epoch 95/200\n",
            "25/25 [==============================] - 0s 8ms/step - loss: 2.1700 - val_loss: 4.4248\n",
            "Epoch 96/200\n",
            "25/25 [==============================] - 0s 8ms/step - loss: 2.1686 - val_loss: 4.3867\n",
            "Epoch 97/200\n",
            "25/25 [==============================] - 0s 7ms/step - loss: 2.1670 - val_loss: 4.2453\n",
            "Epoch 98/200\n",
            "25/25 [==============================] - 0s 8ms/step - loss: 2.1670 - val_loss: 4.3283\n",
            "Epoch 99/200\n",
            "25/25 [==============================] - 0s 7ms/step - loss: 2.1644 - val_loss: 4.2192\n",
            "Epoch 100/200\n",
            "25/25 [==============================] - 0s 7ms/step - loss: 2.1628 - val_loss: 4.2456\n",
            "Epoch 101/200\n",
            "25/25 [==============================] - 0s 8ms/step - loss: 2.1614 - val_loss: 4.2229\n",
            "Epoch 102/200\n",
            "25/25 [==============================] - 0s 7ms/step - loss: 2.1602 - val_loss: 4.0378\n",
            "Epoch 103/200\n",
            "25/25 [==============================] - 0s 8ms/step - loss: 2.1592 - val_loss: 4.2508\n",
            "Epoch 104/200\n",
            "25/25 [==============================] - 0s 7ms/step - loss: 2.1572 - val_loss: 4.1742\n",
            "Epoch 105/200\n",
            "25/25 [==============================] - 0s 8ms/step - loss: 2.1558 - val_loss: 4.0515\n",
            "Epoch 106/200\n",
            "25/25 [==============================] - 0s 8ms/step - loss: 2.1546 - val_loss: 4.0851\n",
            "Epoch 107/200\n",
            "25/25 [==============================] - 0s 7ms/step - loss: 2.1535 - val_loss: 4.1128\n",
            "Epoch 108/200\n",
            "25/25 [==============================] - 0s 8ms/step - loss: 2.1520 - val_loss: 4.0168\n",
            "Epoch 109/200\n",
            "25/25 [==============================] - 0s 8ms/step - loss: 2.1511 - val_loss: 4.0423\n",
            "Epoch 110/200\n",
            "25/25 [==============================] - 0s 8ms/step - loss: 2.1497 - val_loss: 4.1118\n",
            "Epoch 111/200\n",
            "25/25 [==============================] - 0s 7ms/step - loss: 2.1490 - val_loss: 3.8864\n",
            "Epoch 112/200\n",
            "25/25 [==============================] - 0s 9ms/step - loss: 2.1482 - val_loss: 4.1088\n",
            "Epoch 113/200\n",
            "25/25 [==============================] - 0s 7ms/step - loss: 2.1472 - val_loss: 3.8136\n",
            "Epoch 114/200\n",
            "25/25 [==============================] - 0s 8ms/step - loss: 2.1459 - val_loss: 3.9228\n",
            "Epoch 115/200\n",
            "25/25 [==============================] - 0s 8ms/step - loss: 2.1450 - val_loss: 3.8686\n",
            "Epoch 116/200\n",
            "25/25 [==============================] - 0s 7ms/step - loss: 2.1440 - val_loss: 3.8427\n",
            "Epoch 117/200\n",
            "25/25 [==============================] - 0s 7ms/step - loss: 2.1435 - val_loss: 3.6932\n",
            "Epoch 118/200\n",
            "25/25 [==============================] - 0s 9ms/step - loss: 2.1421 - val_loss: 3.8421\n",
            "Epoch 119/200\n",
            "25/25 [==============================] - 0s 10ms/step - loss: 2.1410 - val_loss: 3.7283\n",
            "Epoch 120/200\n",
            "25/25 [==============================] - 0s 9ms/step - loss: 2.1401 - val_loss: 3.8368\n",
            "Epoch 121/200\n",
            "25/25 [==============================] - 0s 9ms/step - loss: 2.1391 - val_loss: 3.6843\n",
            "Epoch 122/200\n",
            "25/25 [==============================] - 0s 8ms/step - loss: 2.1381 - val_loss: 3.7508\n",
            "Epoch 123/200\n",
            "25/25 [==============================] - 0s 9ms/step - loss: 2.1372 - val_loss: 3.6886\n",
            "Epoch 124/200\n",
            "25/25 [==============================] - 0s 7ms/step - loss: 2.1360 - val_loss: 3.6395\n",
            "Epoch 125/200\n",
            "25/25 [==============================] - 0s 8ms/step - loss: 2.1353 - val_loss: 3.7109\n",
            "Epoch 126/200\n",
            "25/25 [==============================] - 0s 8ms/step - loss: 2.1403 - val_loss: 3.1399\n",
            "Epoch 127/200\n",
            "25/25 [==============================] - 0s 8ms/step - loss: 2.1429 - val_loss: 3.2597\n",
            "Epoch 128/200\n",
            "25/25 [==============================] - 0s 8ms/step - loss: 2.1385 - val_loss: 3.4990\n",
            "Epoch 129/200\n",
            "25/25 [==============================] - 0s 7ms/step - loss: 2.1350 - val_loss: 3.4988\n",
            "Epoch 130/200\n",
            "25/25 [==============================] - 0s 7ms/step - loss: 2.1347 - val_loss: 3.5232\n",
            "Epoch 131/200\n",
            "25/25 [==============================] - 0s 7ms/step - loss: 2.1334 - val_loss: 3.5597\n",
            "Epoch 132/200\n",
            "25/25 [==============================] - 0s 7ms/step - loss: 2.1315 - val_loss: 3.4744\n",
            "Epoch 133/200\n",
            "25/25 [==============================] - 0s 8ms/step - loss: 2.1306 - val_loss: 3.5174\n",
            "Epoch 134/200\n",
            "25/25 [==============================] - 0s 8ms/step - loss: 2.1297 - val_loss: 3.5304\n",
            "Epoch 135/200\n",
            "25/25 [==============================] - 0s 7ms/step - loss: 2.1290 - val_loss: 3.5406\n",
            "Epoch 136/200\n",
            "25/25 [==============================] - 0s 7ms/step - loss: 2.1283 - val_loss: 3.5166\n",
            "Epoch 137/200\n",
            "25/25 [==============================] - 0s 7ms/step - loss: 2.1271 - val_loss: 3.5199\n",
            "Epoch 138/200\n",
            "25/25 [==============================] - 0s 7ms/step - loss: 2.1260 - val_loss: 3.5231\n",
            "Epoch 139/200\n",
            "25/25 [==============================] - 0s 8ms/step - loss: 2.1248 - val_loss: 3.5032\n",
            "Epoch 140/200\n",
            "25/25 [==============================] - 0s 8ms/step - loss: 2.1242 - val_loss: 3.5173\n",
            "Epoch 141/200\n",
            "25/25 [==============================] - 0s 10ms/step - loss: 2.1231 - val_loss: 3.5430\n",
            "Epoch 142/200\n",
            "25/25 [==============================] - 0s 12ms/step - loss: 2.1224 - val_loss: 3.4793\n",
            "Epoch 143/200\n",
            "25/25 [==============================] - 0s 13ms/step - loss: 2.1217 - val_loss: 3.5577\n",
            "Epoch 144/200\n",
            "25/25 [==============================] - 0s 13ms/step - loss: 2.1209 - val_loss: 3.4628\n",
            "Epoch 145/200\n",
            "25/25 [==============================] - 0s 11ms/step - loss: 2.1202 - val_loss: 3.4888\n",
            "Epoch 146/200\n",
            "25/25 [==============================] - 0s 12ms/step - loss: 2.1199 - val_loss: 3.4668\n",
            "Epoch 147/200\n",
            "25/25 [==============================] - 0s 12ms/step - loss: 2.1194 - val_loss: 3.4908\n",
            "Epoch 148/200\n",
            "25/25 [==============================] - 0s 11ms/step - loss: 2.1170 - val_loss: 3.4370\n",
            "Epoch 149/200\n",
            "25/25 [==============================] - 0s 12ms/step - loss: 2.1162 - val_loss: 3.2999\n",
            "Epoch 150/200\n",
            "25/25 [==============================] - 0s 12ms/step - loss: 2.1189 - val_loss: 3.3123\n",
            "Epoch 151/200\n",
            "25/25 [==============================] - 0s 11ms/step - loss: 2.1153 - val_loss: 3.3649\n",
            "Epoch 152/200\n",
            "25/25 [==============================] - 0s 12ms/step - loss: 2.1140 - val_loss: 3.3729\n",
            "Epoch 153/200\n",
            "25/25 [==============================] - 0s 12ms/step - loss: 2.1126 - val_loss: 3.3834\n",
            "Epoch 154/200\n",
            "25/25 [==============================] - 0s 12ms/step - loss: 2.1118 - val_loss: 3.3438\n",
            "Epoch 155/200\n",
            "25/25 [==============================] - 0s 7ms/step - loss: 2.1110 - val_loss: 3.3777\n",
            "Epoch 156/200\n",
            "25/25 [==============================] - 0s 7ms/step - loss: 2.1099 - val_loss: 3.3320\n",
            "Epoch 157/200\n",
            "25/25 [==============================] - 0s 7ms/step - loss: 2.1089 - val_loss: 3.3122\n",
            "Epoch 158/200\n",
            "25/25 [==============================] - 0s 8ms/step - loss: 2.1083 - val_loss: 3.3812\n",
            "Epoch 159/200\n",
            "25/25 [==============================] - 0s 7ms/step - loss: 2.1070 - val_loss: 3.3156\n",
            "Epoch 160/200\n",
            "25/25 [==============================] - 0s 7ms/step - loss: 2.1069 - val_loss: 3.3034\n",
            "Epoch 161/200\n",
            "25/25 [==============================] - 0s 7ms/step - loss: 2.1065 - val_loss: 3.2118\n",
            "Epoch 162/200\n",
            "25/25 [==============================] - 0s 8ms/step - loss: 2.1074 - val_loss: 3.2626\n",
            "Epoch 163/200\n",
            "25/25 [==============================] - 0s 7ms/step - loss: 2.1068 - val_loss: 3.3466\n",
            "Epoch 164/200\n",
            "25/25 [==============================] - 0s 8ms/step - loss: 2.1044 - val_loss: 3.2541\n",
            "Epoch 165/200\n",
            "25/25 [==============================] - 0s 7ms/step - loss: 2.1107 - val_loss: 3.1071\n",
            "Epoch 166/200\n",
            "25/25 [==============================] - 0s 8ms/step - loss: 2.1184 - val_loss: 3.1231\n",
            "Epoch 167/200\n",
            "25/25 [==============================] - 0s 8ms/step - loss: 2.1145 - val_loss: 3.2063\n",
            "Epoch 168/200\n",
            "25/25 [==============================] - 0s 8ms/step - loss: 2.1099 - val_loss: 3.5173\n",
            "Epoch 169/200\n",
            "25/25 [==============================] - 0s 8ms/step - loss: 2.1059 - val_loss: 3.5298\n",
            "Epoch 170/200\n",
            "25/25 [==============================] - 0s 8ms/step - loss: 2.1037 - val_loss: 3.5454\n",
            "Epoch 171/200\n",
            "25/25 [==============================] - 0s 8ms/step - loss: 2.1024 - val_loss: 3.5430\n",
            "Epoch 172/200\n",
            "25/25 [==============================] - 0s 7ms/step - loss: 2.1014 - val_loss: 3.5409\n",
            "Epoch 173/200\n",
            "25/25 [==============================] - 0s 8ms/step - loss: 2.1004 - val_loss: 3.5590\n",
            "Epoch 174/200\n",
            "25/25 [==============================] - 0s 7ms/step - loss: 2.0992 - val_loss: 3.5375\n",
            "Epoch 175/200\n",
            "25/25 [==============================] - 0s 7ms/step - loss: 2.0985 - val_loss: 3.5987\n",
            "Epoch 176/200\n",
            "25/25 [==============================] - 0s 7ms/step - loss: 2.0976 - val_loss: 3.5501\n",
            "Epoch 177/200\n",
            "25/25 [==============================] - 0s 7ms/step - loss: 2.0980 - val_loss: 3.5359\n",
            "Epoch 178/200\n",
            "25/25 [==============================] - 0s 7ms/step - loss: 2.0969 - val_loss: 3.5938\n",
            "Epoch 179/200\n",
            "25/25 [==============================] - 0s 8ms/step - loss: 2.0957 - val_loss: 3.5713\n",
            "Epoch 180/200\n",
            "25/25 [==============================] - 0s 9ms/step - loss: 2.0953 - val_loss: 3.6287\n",
            "Epoch 181/200\n",
            "25/25 [==============================] - 0s 7ms/step - loss: 2.0941 - val_loss: 3.6156\n",
            "Epoch 182/200\n",
            "25/25 [==============================] - 0s 8ms/step - loss: 2.0935 - val_loss: 3.5990\n",
            "Epoch 183/200\n",
            "25/25 [==============================] - 0s 7ms/step - loss: 2.0928 - val_loss: 3.6062\n",
            "Epoch 184/200\n",
            "25/25 [==============================] - 0s 8ms/step - loss: 2.0923 - val_loss: 3.6501\n",
            "Epoch 185/200\n",
            "25/25 [==============================] - 0s 8ms/step - loss: 2.0923 - val_loss: 3.4446\n",
            "Epoch 186/200\n",
            "25/25 [==============================] - 0s 10ms/step - loss: 2.0980 - val_loss: 3.2352\n",
            "Epoch 187/200\n",
            "25/25 [==============================] - 0s 8ms/step - loss: 2.0960 - val_loss: 3.4061\n",
            "Epoch 188/200\n",
            "25/25 [==============================] - 0s 8ms/step - loss: 2.0961 - val_loss: 3.6959\n",
            "Epoch 189/200\n",
            "25/25 [==============================] - 0s 11ms/step - loss: 2.0926 - val_loss: 3.5919\n",
            "Epoch 190/200\n",
            "25/25 [==============================] - 0s 7ms/step - loss: 2.0910 - val_loss: 3.5166\n",
            "Epoch 191/200\n",
            "25/25 [==============================] - 0s 7ms/step - loss: 2.0907 - val_loss: 3.4870\n",
            "Epoch 192/200\n",
            "25/25 [==============================] - 0s 7ms/step - loss: 2.0893 - val_loss: 3.5138\n",
            "Epoch 193/200\n",
            "25/25 [==============================] - 0s 7ms/step - loss: 2.0882 - val_loss: 3.5647\n",
            "Epoch 194/200\n",
            "25/25 [==============================] - 0s 8ms/step - loss: 2.0873 - val_loss: 3.4851\n",
            "Epoch 195/200\n",
            "25/25 [==============================] - 0s 7ms/step - loss: 2.0875 - val_loss: 3.6269\n",
            "Epoch 196/200\n",
            "25/25 [==============================] - 0s 7ms/step - loss: 2.0866 - val_loss: 3.6121\n",
            "Epoch 197/200\n",
            "25/25 [==============================] - 0s 7ms/step - loss: 2.0860 - val_loss: 3.6511\n",
            "Epoch 198/200\n",
            "25/25 [==============================] - 0s 8ms/step - loss: 2.0854 - val_loss: 3.6462\n",
            "Epoch 199/200\n",
            "25/25 [==============================] - 0s 7ms/step - loss: 2.0841 - val_loss: 3.6481\n",
            "Epoch 200/200\n",
            "25/25 [==============================] - 0s 7ms/step - loss: 2.0834 - val_loss: 3.6618\n"
          ]
        },
        {
          "output_type": "execute_result",
          "data": {
            "text/plain": [
              "<keras.callbacks.History at 0x7fa9757433a0>"
            ]
          },
          "metadata": {},
          "execution_count": 568
        }
      ]
    },
    {
      "cell_type": "code",
      "source": [
        "test = np.array([final_test])"
      ],
      "metadata": {
        "id": "Pm3vGpnOEB0y"
      },
      "execution_count": null,
      "outputs": []
    },
    {
      "cell_type": "code",
      "source": [
        "test = test.reshape(2,30,5)\n",
        "test_df = test[0:1,:,:]\n",
        "test_target = test[1:2,:,:]"
      ],
      "metadata": {
        "id": "ulREJTPlEKNd"
      },
      "execution_count": null,
      "outputs": []
    },
    {
      "cell_type": "code",
      "source": [
        "test_pred = model.predict(test_df)"
      ],
      "metadata": {
        "colab": {
          "base_uri": "https://localhost:8080/"
        },
        "id": "K_5-oPKz_Ry_",
        "outputId": "33cd37bc-f337-4d8c-b9ed-a690a0c3c0ba"
      },
      "execution_count": null,
      "outputs": [
        {
          "output_type": "stream",
          "name": "stdout",
          "text": [
            "1/1 [==============================] - 0s 195ms/step\n"
          ]
        }
      ]
    },
    {
      "cell_type": "code",
      "source": [
        "lstm_actions = np.argmax(test_pred[0], axis=1).tolist()"
      ],
      "metadata": {
        "id": "T_lxfCxIIwR7"
      },
      "execution_count": null,
      "outputs": []
    },
    {
      "cell_type": "code",
      "source": [
        "res = [[] for i in range(5)]\n",
        "for i in test_pred[0]:\n",
        "  for j in range(5):\n",
        "    res[j].append(i[j])\n",
        "\n",
        "targets = [[] for i in range(5)]\n",
        "for i in test[0]:\n",
        "  for j in range(5):\n",
        "    targets[j].append(i[j])"
      ],
      "metadata": {
        "id": "1I2R1JArF6tS"
      },
      "execution_count": null,
      "outputs": []
    },
    {
      "cell_type": "code",
      "source": [
        "for i in range(5):\n",
        "  plt.title(final_30.columns[i])\n",
        "  plt.xlabel('Day')\n",
        "  plt.ylabel('Stock Net Gain')\n",
        "  plt.plot(targets[i], label = \"Actual\")\n",
        "  plt.plot(res[i], label = \"Predicted\")\n",
        "  plt.legend()\n",
        "  plt.show()"
      ],
      "metadata": {
        "colab": {
          "base_uri": "https://localhost:8080/",
          "height": 1000
        },
        "id": "WcOwW0H_Fr_Y",
        "outputId": "333ad600-0802-4116-b1df-f9f396b040b3"
      },
      "execution_count": null,
      "outputs": [
        {
          "output_type": "display_data",
          "data": {
            "text/plain": [
              "<Figure size 640x480 with 1 Axes>"
            ],
            "image/png": "[encoded data removed]"
          },
          "metadata": {}
        },
        {
          "output_type": "display_data",
          "data": {
            "text/plain": [
              "<Figure size 640x480 with 1 Axes>"
            ],
            "image/png": "[encoded data removed]"
          },
          "metadata": {}
        },
        {
          "output_type": "display_data",
          "data": {
            "text/plain": [
              "<Figure size 640x480 with 1 Axes>"
            ],
            "image/png": "[encoded data removed]"
          },
          "metadata": {}
        },
        {
          "output_type": "display_data",
          "data": {
            "text/plain": [
              "<Figure size 640x480 with 1 Axes>"
            ],
            "image/png": "[encoded data removed]"
          },
          "metadata": {}
        },
        {
          "output_type": "display_data",
          "data": {
            "text/plain": [
              "<Figure size 640x480 with 1 Axes>"
            ],
            "image/png": "[encoded data removed]"
          },
          "metadata": {}
        }
      ]
    },
    {
      "cell_type": "markdown",
      "source": [
        "# Non-machine Learning - Modified Value Averaging"
      ],
      "metadata": {
        "id": "ipyTXYHe8GDw"
      }
    },
    {
      "cell_type": "code",
      "source": [
        "def ValueAveraging(df):\n",
        "  names_df = df.columns.tolist()\n",
        "  num_to_buy = 1\n",
        "  net_gain = 0\n",
        "  for i in range(len(df)):\n",
        "    chosen = random.sample(names_df, num_to_buy)\n",
        "    temp_gain = 0\n",
        "    for j in chosen:\n",
        "      temp_gain += df[j][i]\n",
        "    if temp_gain >=0:\n",
        "      num_to_buy = min(num_to_buy+1,5)\n",
        "    net_gain += temp_gain\n",
        "  return net_gain"
      ],
      "metadata": {
        "id": "YoizqslcpD1C"
      },
      "execution_count": null,
      "outputs": []
    },
    {
      "cell_type": "markdown",
      "source": [
        "# Comparison of results"
      ],
      "metadata": {
        "id": "hu6rnvP1rK3j"
      }
    },
    {
      "cell_type": "code",
      "source": [
        "final_converted = convert(final_30.copy())\n",
        "\n",
        "def FindValue(actions, df):\n",
        "  net_gain = 0\n",
        "  for i in range(len(actions)):\n",
        "    net_gain += df.iloc[i,actions[i]]\n",
        "  return net_gain\n",
        "\n",
        "dqn_values = FindValue(dqn_actions, final_converted)\n",
        "lstm_values = FindValue(lstm_actions, final_30)"
      ],
      "metadata": {
        "id": "Ysxye5ehsrHA"
      },
      "execution_count": null,
      "outputs": []
    },
    {
      "cell_type": "code",
      "source": [
        "dqn_values"
      ],
      "metadata": {
        "colab": {
          "base_uri": "https://localhost:8080/"
        },
        "id": "fygl0bvVtfdX",
        "outputId": "65ed9b78-1ba1-4864-9c28-4d0e72b08967"
      },
      "execution_count": null,
      "outputs": [
        {
          "output_type": "stream",
          "name": "stderr",
          "text": [
            "/usr/local/lib/python3.9/dist-packages/ipykernel/ipkernel.py:283: DeprecationWarning: `should_run_async` will not call `transform_cell` automatically in the future. Please pass the result to `transformed_cell` argument and any exception that happen during thetransform in `preprocessing_exc_tuple` in IPython 7.17 and above.\n",
            "  and should_run_async(code)\n"
          ]
        },
        {
          "output_type": "execute_result",
          "data": {
            "text/plain": [
              "28.2573182012"
            ]
          },
          "metadata": {},
          "execution_count": 577
        }
      ]
    },
    {
      "cell_type": "code",
      "source": [
        "lstm_values"
      ],
      "metadata": {
        "colab": {
          "base_uri": "https://localhost:8080/"
        },
        "id": "3JQk_Mustgpb",
        "outputId": "3855eafb-b856-430b-9bef-7f124eae4ce9"
      },
      "execution_count": null,
      "outputs": [
        {
          "output_type": "execute_result",
          "data": {
            "text/plain": [
              "-5.114198624799947"
            ]
          },
          "metadata": {},
          "execution_count": 578
        }
      ]
    },
    {
      "cell_type": "code",
      "source": [
        "values = []\n",
        "for i in range(500):\n",
        "\n",
        "  values.append(ValueAveraging(final_30))\n",
        "\n",
        "np.mean(values)"
      ],
      "metadata": {
        "colab": {
          "base_uri": "https://localhost:8080/"
        },
        "id": "pPRN1LDhtpKy",
        "outputId": "52852b02-e739-4cb3-f49f-6bd9e3eb4067"
      },
      "execution_count": null,
      "outputs": [
        {
          "output_type": "execute_result",
          "data": {
            "text/plain": [
              "-0.6247334901070701"
            ]
          },
          "metadata": {},
          "execution_count": 579
        }
      ]
    },
    {
      "cell_type": "code",
      "source": [
        "sum(sum(np.array(final_30)))"
      ],
      "metadata": {
        "colab": {
          "base_uri": "https://localhost:8080/"
        },
        "id": "ATOCAUKsPqjK",
        "outputId": "97d596cb-20e6-44bc-e677-ec6255684851"
      },
      "execution_count": null,
      "outputs": [
        {
          "output_type": "execute_result",
          "data": {
            "text/plain": [
              "-8.854467047499938"
            ]
          },
          "metadata": {},
          "execution_count": 580
        }
      ]
    },
    {
      "cell_type": "markdown",
      "source": [
        "# Actual Optimal Policy"
      ],
      "metadata": {
        "id": "PUMzVBfCHygU"
      }
    },
    {
      "cell_type": "code",
      "source": [
        "policy = np.argmax(np.array(final_converted),axis=1)\n",
        "optimal_values = FindValue(policy.tolist(), final_converted)"
      ],
      "metadata": {
        "id": "rXUNoSH-Hw7f"
      },
      "execution_count": null,
      "outputs": []
    },
    {
      "cell_type": "code",
      "source": [
        "optimal_values"
      ],
      "metadata": {
        "colab": {
          "base_uri": "https://localhost:8080/"
        },
        "id": "Z7qlzwT5IQG6",
        "outputId": "84ea2749-e16a-4f07-c917-8888a3ba6650"
      },
      "execution_count": null,
      "outputs": [
        {
          "output_type": "execute_result",
          "data": {
            "text/plain": [
              "129.39229593379986"
            ]
          },
          "metadata": {},
          "execution_count": 582
        }
      ]
    },
    {
      "cell_type": "code",
      "source": [
        "policy_5 = np.argmax(np.array(final_30),axis=1)\n",
        "optimal_values = FindValue(policy_5.tolist(), final_30)\n",
        "optimal_values"
      ],
      "metadata": {
        "colab": {
          "base_uri": "https://localhost:8080/"
        },
        "id": "q9WtY-74Nl2w",
        "outputId": "0bf9ef3d-202d-4aae-ed09-1a1efebbb309"
      },
      "execution_count": null,
      "outputs": [
        {
          "output_type": "execute_result",
          "data": {
            "text/plain": [
              "80.18028984210002"
            ]
          },
          "metadata": {},
          "execution_count": 583
        }
      ]
    },
    {
      "cell_type": "code",
      "source": [
        "policy_min = np.argmin(np.array(final_converted),axis=1)\n",
        "minimal_values = FindValue(policy_min.tolist(), final_converted)\n",
        "minimal_values"
      ],
      "metadata": {
        "colab": {
          "base_uri": "https://localhost:8080/"
        },
        "id": "lacO4Ha2ZWk4",
        "outputId": "40b5175b-3991-431c-aa83-5ed37b4ca11a"
      },
      "execution_count": null,
      "outputs": [
        {
          "output_type": "execute_result",
          "data": {
            "text/plain": [
              "-137.16246955269978"
            ]
          },
          "metadata": {},
          "execution_count": 584
        }
      ]
    }
  ]
}